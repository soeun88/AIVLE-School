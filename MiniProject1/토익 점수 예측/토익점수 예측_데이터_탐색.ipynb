{
 "cells": [
  {
   "cell_type": "markdown",
   "metadata": {
    "id": "mJlY5pHkC2AM"
   },
   "source": [
    "# **토익진단평가 데이터 다듬기2**\n",
    "# 단계2 : 데이터프레임 탐색"
   ]
  },
  {
   "cell_type": "markdown",
   "metadata": {
    "id": "-FPypzell2uc"
   },
   "source": [
    "## 0.미션"
   ]
  },
  {
   "cell_type": "markdown",
   "metadata": {
    "id": "SIB0IcbdD_aj"
   },
   "source": [
    "* 전처리 단계에서 생성한 데이터에 대한 데이터프레임 탐색을 해봅시다.\n",
    "* 개별 변수 및 개별 변수들 간의 관계에 대해 생각해보고, 분석해봅니다."
   ]
  },
  {
   "cell_type": "markdown",
   "metadata": {
    "id": "dWToio0hXNVS"
   },
   "source": [
    "## 1.환경설정"
   ]
  },
  {
   "cell_type": "markdown",
   "metadata": {
    "id": "zxlUC7TWTIvT"
   },
   "source": [
    "### (1) 폰트 설치"
   ]
  },
  {
   "cell_type": "code",
   "execution_count": 6,
   "metadata": {
    "colab": {
     "base_uri": "https://localhost:8080/"
    },
    "executionInfo": {
     "elapsed": 16636,
     "status": "ok",
     "timestamp": 1679819218133,
     "user": {
      "displayName": "이선영",
      "userId": "03062122541069374649"
     },
     "user_tz": -540
    },
    "id": "4k9dUgQ1TCbH",
    "outputId": "9ac41fd2-8b60-4023-df8b-e686a6d5b847"
   },
   "outputs": [],
   "source": [
    "# 아래 라이브러리를 수행해주세요."
   ]
  },
  {
   "cell_type": "code",
   "execution_count": 7,
   "metadata": {},
   "outputs": [
    {
     "name": "stdout",
     "output_type": "stream",
     "text": [
      "Requirement already satisfied: matplotlib in c:\\users\\user\\anaconda3\\lib\\site-packages (3.9.2)\n",
      "Requirement already satisfied: contourpy>=1.0.1 in c:\\users\\user\\anaconda3\\lib\\site-packages (from matplotlib) (1.2.0)\n",
      "Requirement already satisfied: cycler>=0.10 in c:\\users\\user\\anaconda3\\lib\\site-packages (from matplotlib) (0.11.0)\n",
      "Requirement already satisfied: fonttools>=4.22.0 in c:\\users\\user\\anaconda3\\lib\\site-packages (from matplotlib) (4.51.0)\n",
      "Requirement already satisfied: kiwisolver>=1.3.1 in c:\\users\\user\\anaconda3\\lib\\site-packages (from matplotlib) (1.4.4)\n",
      "Requirement already satisfied: numpy>=1.23 in c:\\users\\user\\anaconda3\\lib\\site-packages (from matplotlib) (1.26.4)\n",
      "Requirement already satisfied: packaging>=20.0 in c:\\users\\user\\anaconda3\\lib\\site-packages (from matplotlib) (23.2)\n",
      "Requirement already satisfied: pillow>=8 in c:\\users\\user\\anaconda3\\lib\\site-packages (from matplotlib) (10.3.0)\n",
      "Requirement already satisfied: pyparsing>=2.3.1 in c:\\users\\user\\anaconda3\\lib\\site-packages (from matplotlib) (3.0.9)\n",
      "Requirement already satisfied: python-dateutil>=2.7 in c:\\users\\user\\anaconda3\\lib\\site-packages (from matplotlib) (2.9.0.post0)\n",
      "Requirement already satisfied: six>=1.5 in c:\\users\\user\\anaconda3\\lib\\site-packages (from python-dateutil>=2.7->matplotlib) (1.16.0)\n",
      "Requirement already satisfied: matplotlib in c:\\users\\user\\anaconda3\\lib\\site-packages (3.9.2)\n",
      "Requirement already satisfied: contourpy>=1.0.1 in c:\\users\\user\\anaconda3\\lib\\site-packages (from matplotlib) (1.2.0)\n",
      "Requirement already satisfied: cycler>=0.10 in c:\\users\\user\\anaconda3\\lib\\site-packages (from matplotlib) (0.11.0)\n",
      "Requirement already satisfied: fonttools>=4.22.0 in c:\\users\\user\\anaconda3\\lib\\site-packages (from matplotlib) (4.51.0)\n",
      "Requirement already satisfied: kiwisolver>=1.3.1 in c:\\users\\user\\anaconda3\\lib\\site-packages (from matplotlib) (1.4.4)\n",
      "Requirement already satisfied: numpy>=1.23 in c:\\users\\user\\anaconda3\\lib\\site-packages (from matplotlib) (1.26.4)\n",
      "Requirement already satisfied: packaging>=20.0 in c:\\users\\user\\anaconda3\\lib\\site-packages (from matplotlib) (23.2)\n",
      "Requirement already satisfied: pillow>=8 in c:\\users\\user\\anaconda3\\lib\\site-packages (from matplotlib) (10.3.0)\n",
      "Requirement already satisfied: pyparsing>=2.3.1 in c:\\users\\user\\anaconda3\\lib\\site-packages (from matplotlib) (3.0.9)\n",
      "Requirement already satisfied: python-dateutil>=2.7 in c:\\users\\user\\anaconda3\\lib\\site-packages (from matplotlib) (2.9.0.post0)\n",
      "Requirement already satisfied: six>=1.5 in c:\\users\\user\\anaconda3\\lib\\site-packages (from python-dateutil>=2.7->matplotlib) (1.16.0)\n"
     ]
    }
   ],
   "source": [
    "!pip install matplotlib\n",
    "!pip install --upgrade matplotlib\n",
    "\n",
    "import matplotlib.pyplot as plt"
   ]
  },
  {
   "cell_type": "markdown",
   "metadata": {
    "id": "KnzVh2LmkLDU"
   },
   "source": [
    "### (2) 라이브러리 불러오기"
   ]
  },
  {
   "cell_type": "markdown",
   "metadata": {
    "id": "I_rCs78QJZmI"
   },
   "source": [
    "* **세부 요구사항**\n",
    "    - 기본적으로 필요한 라이브러리를 import 하도록 코드를 작성하였습니다.\n",
    "    - pandas, numpy, matplotlib 라이브러리를 실행해주세요."
   ]
  },
  {
   "cell_type": "code",
   "execution_count": 10,
   "metadata": {},
   "outputs": [],
   "source": [
    "#[문제] pandas 라이브러리를 임포트하세요."
   ]
  },
  {
   "cell_type": "code",
   "execution_count": 11,
   "metadata": {},
   "outputs": [],
   "source": [
    "import pandas as pd"
   ]
  },
  {
   "cell_type": "code",
   "execution_count": 12,
   "metadata": {},
   "outputs": [],
   "source": [
    "#[문제] numpy 라이브러리를 임포트하세요."
   ]
  },
  {
   "cell_type": "code",
   "execution_count": 13,
   "metadata": {},
   "outputs": [],
   "source": [
    "import numpy as np"
   ]
  },
  {
   "cell_type": "code",
   "execution_count": 14,
   "metadata": {},
   "outputs": [],
   "source": [
    "#[문제] matplotlib 라이브러리를 임포트하세요."
   ]
  },
  {
   "cell_type": "code",
   "execution_count": 15,
   "metadata": {},
   "outputs": [],
   "source": [
    "import matplotlib.pyplot as plt"
   ]
  },
  {
   "cell_type": "code",
   "execution_count": 16,
   "metadata": {},
   "outputs": [],
   "source": [
    "#차트에 한글폰트 설정을 위해 아래 라이브러리를 실행해주세요."
   ]
  },
  {
   "cell_type": "code",
   "execution_count": 17,
   "metadata": {
    "id": "44iV0nhcTkWx"
   },
   "outputs": [],
   "source": [
    "plt.rc('font', family='Malgun Gothic')"
   ]
  },
  {
   "cell_type": "markdown",
   "metadata": {
    "id": "L8ROQsZuekw8"
   },
   "source": [
    "### (3) 데이터 불러오기\n",
    "* 1.데이터 전처리 단계에서 앞 시간에 생성한 데이터를 로딩합니다.\n",
    "    * data04_baseline.csv\n",
    "* 다음과 같이 데이터를 저장하여 불러와주세요.\n",
    "    * 주피터랩 수행\n",
    "        * 제공된 압축파일 '미프 1차_토익'을 다운받아 압축을 푼다.\n",
    "        * anaconda의 root directory(보통 C:\\Users\\<ID> 에 '미프 1차_토익' 폴더를 만들고, 복사해 넣습니다.\n",
    "        * '2.데이터_탐색_교육생용' 실습파일을 열어주세요."
   ]
  },
  {
   "cell_type": "markdown",
   "metadata": {
    "id": "HYi9O2rNdBU_"
   },
   "source": [
    "#### 1) 주피터랩 수행"
   ]
  },
  {
   "cell_type": "code",
   "execution_count": 20,
   "metadata": {
    "id": "876cuCbEd4j_"
   },
   "outputs": [],
   "source": [
    "# '미프 1차_토익' 폴더에 필요한 파일들을 넣고, 본 파일을 열고 데이터를 읽어옵니다."
   ]
  },
  {
   "cell_type": "code",
   "execution_count": 21,
   "metadata": {},
   "outputs": [],
   "source": [
    "#[문제] '미프 1차_토익' 폴더에서 본 파일 '2.데이터_탐색_교육생용' 실습파일을 열어주세요."
   ]
  },
  {
   "cell_type": "markdown",
   "metadata": {
    "id": "GH3ApIzofYPb"
   },
   "source": [
    "#### 2) 저장된 데이터 읽어오기\n",
    "* [1.전처리] 단계에서 저장된 .csv 파일인 'data04_baseline.csv' 파일을 불러옵니다.\n",
    "* 불러 온 후에는 shape를 확인해 봅시다."
   ]
  },
  {
   "cell_type": "code",
   "execution_count": 23,
   "metadata": {
    "id": "r9RnmjVqgfU6"
   },
   "outputs": [],
   "source": [
    "#[문제] data04_baseline.csv 파일을 pd.read_csv 함수를 이용하여 읽고 data변수에 할당하세요."
   ]
  },
  {
   "cell_type": "code",
   "execution_count": 24,
   "metadata": {},
   "outputs": [],
   "source": [
    "# 읽어들일 파일명 : data04_baseline.csv\n",
    "# Pandas read_csv 함수 활용\n",
    "# 결과 : data 저장"
   ]
  },
  {
   "cell_type": "code",
   "execution_count": 25,
   "metadata": {},
   "outputs": [],
   "source": [
    "#[문제] 읽어온 데이터프레임 data 확인해주세요."
   ]
  },
  {
   "cell_type": "code",
   "execution_count": 26,
   "metadata": {},
   "outputs": [],
   "source": [
    "data = pd.read_csv('data04_baseline.csv')"
   ]
  },
  {
   "cell_type": "code",
   "execution_count": 27,
   "metadata": {},
   "outputs": [],
   "source": [
    "#[문제] data 데이터프레임의 열과 행을 확인해주세요."
   ]
  },
  {
   "cell_type": "code",
   "execution_count": 28,
   "metadata": {},
   "outputs": [
    {
     "data": {
      "text/plain": [
       "(500, 21)"
      ]
     },
     "execution_count": 28,
     "metadata": {},
     "output_type": "execute_result"
    }
   ],
   "source": [
    "data.shape"
   ]
  },
  {
   "cell_type": "code",
   "execution_count": 29,
   "metadata": {},
   "outputs": [],
   "source": [
    "#[문제] data 데이터프레임의 자료구조(Row, Column, Not-null, type)을 파악하세요."
   ]
  },
  {
   "cell_type": "code",
   "execution_count": 30,
   "metadata": {
    "id": "Nrv3NIlZ08dt"
   },
   "outputs": [
    {
     "name": "stdout",
     "output_type": "stream",
     "text": [
      "<class 'pandas.core.frame.DataFrame'>\n",
      "RangeIndex: 500 entries, 0 to 499\n",
      "Data columns (total 21 columns):\n",
      " #   Column            Non-Null Count  Dtype  \n",
      "---  ------            --------------  -----  \n",
      " 0   ID                500 non-null    int64  \n",
      " 1   Gender            500 non-null    object \n",
      " 2   Birth_Year        500 non-null    int64  \n",
      " 3   Seq               500 non-null    int64  \n",
      " 4   3st_LC_Score      500 non-null    int64  \n",
      " 5   3st_RC_Score      500 non-null    int64  \n",
      " 6   3st_Total_Score   500 non-null    int64  \n",
      " 7   학습목표              500 non-null    object \n",
      " 8   학습방법              500 non-null    object \n",
      " 9   강의 학습 교재 유형       500 non-null    object \n",
      " 10  학습빈도              500 non-null    object \n",
      " 11  기출문제 공부 횟수        500 non-null    float64\n",
      " 12  취약분야 인지 여부        500 non-null    object \n",
      " 13  토익 모의테스트 횟수       500 non-null    int64  \n",
      " 14  1st_LC_Score      500 non-null    int64  \n",
      " 15  1st_RC_Score      500 non-null    int64  \n",
      " 16  1st_Total_Score   500 non-null    int64  \n",
      " 17  2st_LC_Score      500 non-null    int64  \n",
      " 18  2st_RC_Score      500 non-null    int64  \n",
      " 19  2st_Total_Score   500 non-null    int64  \n",
      " 20  Score_diff_total  500 non-null    int64  \n",
      "dtypes: float64(1), int64(14), object(6)\n",
      "memory usage: 82.2+ KB\n"
     ]
    }
   ],
   "source": [
    "data.info()"
   ]
  },
  {
   "cell_type": "code",
   "execution_count": 31,
   "metadata": {},
   "outputs": [],
   "source": [
    "#[문제] 인덱스를 확인해보세요."
   ]
  },
  {
   "cell_type": "code",
   "execution_count": 32,
   "metadata": {},
   "outputs": [
    {
     "data": {
      "text/plain": [
       "RangeIndex(start=0, stop=500, step=1)"
      ]
     },
     "execution_count": 32,
     "metadata": {},
     "output_type": "execute_result"
    }
   ],
   "source": [
    "data.index"
   ]
  },
  {
   "cell_type": "code",
   "execution_count": 33,
   "metadata": {},
   "outputs": [],
   "source": [
    "#[문제] 컬럼명을 확인해보세요."
   ]
  },
  {
   "cell_type": "code",
   "execution_count": 34,
   "metadata": {},
   "outputs": [
    {
     "data": {
      "text/plain": [
       "Index(['ID', 'Gender', 'Birth_Year', 'Seq', '3st_LC_Score', '3st_RC_Score',\n",
       "       '3st_Total_Score', '학습목표', '학습방법', '강의 학습 교재 유형', '학습빈도', '기출문제 공부 횟수',\n",
       "       '취약분야 인지 여부', '토익 모의테스트 횟수', '1st_LC_Score', '1st_RC_Score',\n",
       "       '1st_Total_Score', '2st_LC_Score', '2st_RC_Score', '2st_Total_Score',\n",
       "       'Score_diff_total'],\n",
       "      dtype='object')"
      ]
     },
     "execution_count": 34,
     "metadata": {},
     "output_type": "execute_result"
    }
   ],
   "source": [
    "data.columns"
   ]
  },
  {
   "cell_type": "code",
   "execution_count": 35,
   "metadata": {},
   "outputs": [],
   "source": [
    "#[문제] 상단 5행을 확인해보세요"
   ]
  },
  {
   "cell_type": "code",
   "execution_count": 36,
   "metadata": {},
   "outputs": [],
   "source": [
    "data = data[['ID', 'Gender', 'Birth_Year', 'Seq', '학습목표', '학습방법', '강의 학습 교재 유형', '학습빈도', '기출문제 공부 횟수',\n",
    "       '취약분야 인지 여부', '토익 모의테스트 횟수', '1st_LC_Score', '1st_RC_Score',\n",
    "       '1st_Total_Score', '2st_LC_Score', '2st_RC_Score', '2st_Total_Score', '3st_LC_Score', '3st_RC_Score',\n",
    "       '3st_Total_Score',\n",
    "       'Score_diff_total']]"
   ]
  },
  {
   "cell_type": "code",
   "execution_count": 37,
   "metadata": {},
   "outputs": [
    {
     "data": {
      "text/html": [
       "<div>\n",
       "<style scoped>\n",
       "    .dataframe tbody tr th:only-of-type {\n",
       "        vertical-align: middle;\n",
       "    }\n",
       "\n",
       "    .dataframe tbody tr th {\n",
       "        vertical-align: top;\n",
       "    }\n",
       "\n",
       "    .dataframe thead th {\n",
       "        text-align: right;\n",
       "    }\n",
       "</style>\n",
       "<table border=\"1\" class=\"dataframe\">\n",
       "  <thead>\n",
       "    <tr style=\"text-align: right;\">\n",
       "      <th></th>\n",
       "      <th>ID</th>\n",
       "      <th>Gender</th>\n",
       "      <th>Birth_Year</th>\n",
       "      <th>Seq</th>\n",
       "      <th>학습목표</th>\n",
       "      <th>학습방법</th>\n",
       "      <th>강의 학습 교재 유형</th>\n",
       "      <th>학습빈도</th>\n",
       "      <th>기출문제 공부 횟수</th>\n",
       "      <th>취약분야 인지 여부</th>\n",
       "      <th>...</th>\n",
       "      <th>1st_LC_Score</th>\n",
       "      <th>1st_RC_Score</th>\n",
       "      <th>1st_Total_Score</th>\n",
       "      <th>2st_LC_Score</th>\n",
       "      <th>2st_RC_Score</th>\n",
       "      <th>2st_Total_Score</th>\n",
       "      <th>3st_LC_Score</th>\n",
       "      <th>3st_RC_Score</th>\n",
       "      <th>3st_Total_Score</th>\n",
       "      <th>Score_diff_total</th>\n",
       "    </tr>\n",
       "  </thead>\n",
       "  <tbody>\n",
       "    <tr>\n",
       "      <th>0</th>\n",
       "      <td>1</td>\n",
       "      <td>M</td>\n",
       "      <td>1973</td>\n",
       "      <td>3</td>\n",
       "      <td>승진</td>\n",
       "      <td>온라인강의</td>\n",
       "      <td>영상 교재</td>\n",
       "      <td>주5-6회</td>\n",
       "      <td>7.0</td>\n",
       "      <td>알고 있음</td>\n",
       "      <td>...</td>\n",
       "      <td>181</td>\n",
       "      <td>173</td>\n",
       "      <td>354</td>\n",
       "      <td>227</td>\n",
       "      <td>213</td>\n",
       "      <td>440</td>\n",
       "      <td>345</td>\n",
       "      <td>336</td>\n",
       "      <td>681</td>\n",
       "      <td>241</td>\n",
       "    </tr>\n",
       "    <tr>\n",
       "      <th>1</th>\n",
       "      <td>2</td>\n",
       "      <td>F</td>\n",
       "      <td>1982</td>\n",
       "      <td>3</td>\n",
       "      <td>승진</td>\n",
       "      <td>온라인강의</td>\n",
       "      <td>뉴스/이슈 기반 교재</td>\n",
       "      <td>주5-6회</td>\n",
       "      <td>4.0</td>\n",
       "      <td>알고 있음</td>\n",
       "      <td>...</td>\n",
       "      <td>330</td>\n",
       "      <td>290</td>\n",
       "      <td>620</td>\n",
       "      <td>354</td>\n",
       "      <td>339</td>\n",
       "      <td>693</td>\n",
       "      <td>380</td>\n",
       "      <td>368</td>\n",
       "      <td>748</td>\n",
       "      <td>55</td>\n",
       "    </tr>\n",
       "    <tr>\n",
       "      <th>2</th>\n",
       "      <td>3</td>\n",
       "      <td>F</td>\n",
       "      <td>1995</td>\n",
       "      <td>3</td>\n",
       "      <td>자기계발</td>\n",
       "      <td>참고서</td>\n",
       "      <td>일반적인 영어 텍스트 기반 교재</td>\n",
       "      <td>주1-2회</td>\n",
       "      <td>4.0</td>\n",
       "      <td>알고 있음</td>\n",
       "      <td>...</td>\n",
       "      <td>367</td>\n",
       "      <td>309</td>\n",
       "      <td>676</td>\n",
       "      <td>396</td>\n",
       "      <td>365</td>\n",
       "      <td>761</td>\n",
       "      <td>416</td>\n",
       "      <td>382</td>\n",
       "      <td>798</td>\n",
       "      <td>37</td>\n",
       "    </tr>\n",
       "    <tr>\n",
       "      <th>3</th>\n",
       "      <td>4</td>\n",
       "      <td>M</td>\n",
       "      <td>1987</td>\n",
       "      <td>3</td>\n",
       "      <td>승진</td>\n",
       "      <td>온라인강의</td>\n",
       "      <td>뉴스/이슈 기반 교재</td>\n",
       "      <td>주3-4회</td>\n",
       "      <td>9.0</td>\n",
       "      <td>알고 있음</td>\n",
       "      <td>...</td>\n",
       "      <td>470</td>\n",
       "      <td>285</td>\n",
       "      <td>755</td>\n",
       "      <td>495</td>\n",
       "      <td>341</td>\n",
       "      <td>836</td>\n",
       "      <td>495</td>\n",
       "      <td>397</td>\n",
       "      <td>892</td>\n",
       "      <td>56</td>\n",
       "    </tr>\n",
       "    <tr>\n",
       "      <th>4</th>\n",
       "      <td>5</td>\n",
       "      <td>M</td>\n",
       "      <td>1994</td>\n",
       "      <td>3</td>\n",
       "      <td>자기계발</td>\n",
       "      <td>온라인강의</td>\n",
       "      <td>영상 교재</td>\n",
       "      <td>주3-4회</td>\n",
       "      <td>6.0</td>\n",
       "      <td>알고 있음</td>\n",
       "      <td>...</td>\n",
       "      <td>273</td>\n",
       "      <td>372</td>\n",
       "      <td>645</td>\n",
       "      <td>314</td>\n",
       "      <td>426</td>\n",
       "      <td>740</td>\n",
       "      <td>398</td>\n",
       "      <td>437</td>\n",
       "      <td>835</td>\n",
       "      <td>95</td>\n",
       "    </tr>\n",
       "  </tbody>\n",
       "</table>\n",
       "<p>5 rows × 21 columns</p>\n",
       "</div>"
      ],
      "text/plain": [
       "   ID Gender  Birth_Year  Seq  학습목표   학습방법        강의 학습 교재 유형   학습빈도  \\\n",
       "0   1      M        1973    3    승진  온라인강의              영상 교재  주5-6회   \n",
       "1   2      F        1982    3    승진  온라인강의        뉴스/이슈 기반 교재  주5-6회   \n",
       "2   3      F        1995    3  자기계발    참고서  일반적인 영어 텍스트 기반 교재  주1-2회   \n",
       "3   4      M        1987    3    승진  온라인강의        뉴스/이슈 기반 교재  주3-4회   \n",
       "4   5      M        1994    3  자기계발  온라인강의              영상 교재  주3-4회   \n",
       "\n",
       "   기출문제 공부 횟수 취약분야 인지 여부  ...  1st_LC_Score  1st_RC_Score  1st_Total_Score  \\\n",
       "0         7.0      알고 있음  ...           181           173              354   \n",
       "1         4.0      알고 있음  ...           330           290              620   \n",
       "2         4.0      알고 있음  ...           367           309              676   \n",
       "3         9.0      알고 있음  ...           470           285              755   \n",
       "4         6.0      알고 있음  ...           273           372              645   \n",
       "\n",
       "   2st_LC_Score  2st_RC_Score  2st_Total_Score  3st_LC_Score  3st_RC_Score  \\\n",
       "0           227           213              440           345           336   \n",
       "1           354           339              693           380           368   \n",
       "2           396           365              761           416           382   \n",
       "3           495           341              836           495           397   \n",
       "4           314           426              740           398           437   \n",
       "\n",
       "   3st_Total_Score  Score_diff_total  \n",
       "0              681               241  \n",
       "1              748                55  \n",
       "2              798                37  \n",
       "3              892                56  \n",
       "4              835                95  \n",
       "\n",
       "[5 rows x 21 columns]"
      ]
     },
     "execution_count": 37,
     "metadata": {},
     "output_type": "execute_result"
    }
   ],
   "source": [
    "data.head(5)"
   ]
  },
  {
   "cell_type": "markdown",
   "metadata": {
    "id": "OQsk3V6hXSjE"
   },
   "source": [
    "## 2.데이터프레임 탐색 : 개별 변수 분석하기"
   ]
  },
  {
   "cell_type": "markdown",
   "metadata": {
    "id": "WcbMEUG06YM_"
   },
   "source": [
    "* **세부 요구사항**\n",
    "    * 기본 분석\n",
    "        * 기초 통계량, NaN 값 확인 등 기본 분석을 수행합니다.\n",
    "    * 주요 변수들의 분포를 살펴보기\n",
    "        * 숫자형 변수 : 기초통계량 조회 (평균, 중앙값, 표준편차 등)\n",
    "        * 범주형 변수 : 특정한 카테고리나 범주로 구성된 변수인 범주별 빈도수, 바 플롯 (예시 : 성별, 혈액형, 지역 등 그룹화할 수 있는 변수)\n",
    "        * 시각화나 통계분석에서 범주형 변수의 그룹 간의 차이나 관계를 분석할 때 중요한 역할을 합니다."
   ]
  },
  {
   "cell_type": "markdown",
   "metadata": {
    "id": "4fsU7ZoM89ii"
   },
   "source": [
    "### (1) 기본 분석"
   ]
  },
  {
   "cell_type": "markdown",
   "metadata": {
    "id": "wz7yC0Ys9B0c"
   },
   "source": [
    "* **세부 요구사항**\n",
    "    - 데이터프레임 전체에 대한 기초통계량을 구합니다.\n",
    "    - NaN을 확인해봅니다.\n",
    "      * NaN이 존재한다면 Numpy 모듈에서 isna() 함수를 통해 판별하고 적절하게 조치해줍니다."
   ]
  },
  {
   "cell_type": "code",
   "execution_count": 42,
   "metadata": {},
   "outputs": [],
   "source": [
    "#[문제] 'data'의 각 열별 누락된 값(Nan, none) 개수를 확인해보세요."
   ]
  },
  {
   "cell_type": "code",
   "execution_count": 43,
   "metadata": {},
   "outputs": [
    {
     "data": {
      "text/plain": [
       "ID                  0\n",
       "Gender              0\n",
       "Birth_Year          0\n",
       "Seq                 0\n",
       "학습목표                0\n",
       "학습방법                0\n",
       "강의 학습 교재 유형         0\n",
       "학습빈도                0\n",
       "기출문제 공부 횟수          0\n",
       "취약분야 인지 여부          0\n",
       "토익 모의테스트 횟수         0\n",
       "1st_LC_Score        0\n",
       "1st_RC_Score        0\n",
       "1st_Total_Score     0\n",
       "2st_LC_Score        0\n",
       "2st_RC_Score        0\n",
       "2st_Total_Score     0\n",
       "3st_LC_Score        0\n",
       "3st_RC_Score        0\n",
       "3st_Total_Score     0\n",
       "Score_diff_total    0\n",
       "dtype: int64"
      ]
     },
     "execution_count": 43,
     "metadata": {},
     "output_type": "execute_result"
    }
   ],
   "source": [
    "#isna() 함수 활용\n",
    "data.isna().sum()"
   ]
  },
  {
   "cell_type": "code",
   "execution_count": 44,
   "metadata": {},
   "outputs": [],
   "source": [
    "#[문제] 'data'의 각 열 통계량을 요약하여 출력하세요."
   ]
  },
  {
   "cell_type": "code",
   "execution_count": 45,
   "metadata": {},
   "outputs": [
    {
     "data": {
      "text/html": [
       "<div>\n",
       "<style scoped>\n",
       "    .dataframe tbody tr th:only-of-type {\n",
       "        vertical-align: middle;\n",
       "    }\n",
       "\n",
       "    .dataframe tbody tr th {\n",
       "        vertical-align: top;\n",
       "    }\n",
       "\n",
       "    .dataframe thead th {\n",
       "        text-align: right;\n",
       "    }\n",
       "</style>\n",
       "<table border=\"1\" class=\"dataframe\">\n",
       "  <thead>\n",
       "    <tr style=\"text-align: right;\">\n",
       "      <th></th>\n",
       "      <th>ID</th>\n",
       "      <th>Birth_Year</th>\n",
       "      <th>Seq</th>\n",
       "      <th>기출문제 공부 횟수</th>\n",
       "      <th>토익 모의테스트 횟수</th>\n",
       "      <th>1st_LC_Score</th>\n",
       "      <th>1st_RC_Score</th>\n",
       "      <th>1st_Total_Score</th>\n",
       "      <th>2st_LC_Score</th>\n",
       "      <th>2st_RC_Score</th>\n",
       "      <th>2st_Total_Score</th>\n",
       "      <th>3st_LC_Score</th>\n",
       "      <th>3st_RC_Score</th>\n",
       "      <th>3st_Total_Score</th>\n",
       "      <th>Score_diff_total</th>\n",
       "    </tr>\n",
       "  </thead>\n",
       "  <tbody>\n",
       "    <tr>\n",
       "      <th>count</th>\n",
       "      <td>500.000000</td>\n",
       "      <td>500.000000</td>\n",
       "      <td>500.0</td>\n",
       "      <td>500.000000</td>\n",
       "      <td>500.000000</td>\n",
       "      <td>500.000000</td>\n",
       "      <td>500.000000</td>\n",
       "      <td>500.00000</td>\n",
       "      <td>500.000000</td>\n",
       "      <td>500.000000</td>\n",
       "      <td>500.000000</td>\n",
       "      <td>500.000000</td>\n",
       "      <td>500.000000</td>\n",
       "      <td>500.000000</td>\n",
       "      <td>500.000000</td>\n",
       "    </tr>\n",
       "    <tr>\n",
       "      <th>mean</th>\n",
       "      <td>250.500000</td>\n",
       "      <td>1992.906000</td>\n",
       "      <td>3.0</td>\n",
       "      <td>5.092000</td>\n",
       "      <td>9.460000</td>\n",
       "      <td>313.878000</td>\n",
       "      <td>312.822000</td>\n",
       "      <td>626.70000</td>\n",
       "      <td>338.120000</td>\n",
       "      <td>338.154000</td>\n",
       "      <td>676.284000</td>\n",
       "      <td>368.240000</td>\n",
       "      <td>369.518000</td>\n",
       "      <td>737.798000</td>\n",
       "      <td>61.514000</td>\n",
       "    </tr>\n",
       "    <tr>\n",
       "      <th>std</th>\n",
       "      <td>144.481833</td>\n",
       "      <td>8.224381</td>\n",
       "      <td>0.0</td>\n",
       "      <td>2.789103</td>\n",
       "      <td>4.955554</td>\n",
       "      <td>85.555611</td>\n",
       "      <td>86.574966</td>\n",
       "      <td>148.57171</td>\n",
       "      <td>84.169535</td>\n",
       "      <td>83.854382</td>\n",
       "      <td>153.178624</td>\n",
       "      <td>82.135393</td>\n",
       "      <td>81.665858</td>\n",
       "      <td>155.901584</td>\n",
       "      <td>39.739051</td>\n",
       "    </tr>\n",
       "    <tr>\n",
       "      <th>min</th>\n",
       "      <td>1.000000</td>\n",
       "      <td>1973.000000</td>\n",
       "      <td>3.0</td>\n",
       "      <td>0.000000</td>\n",
       "      <td>1.000000</td>\n",
       "      <td>105.000000</td>\n",
       "      <td>84.000000</td>\n",
       "      <td>250.00000</td>\n",
       "      <td>120.000000</td>\n",
       "      <td>129.000000</td>\n",
       "      <td>260.000000</td>\n",
       "      <td>141.000000</td>\n",
       "      <td>135.000000</td>\n",
       "      <td>280.000000</td>\n",
       "      <td>0.000000</td>\n",
       "    </tr>\n",
       "    <tr>\n",
       "      <th>25%</th>\n",
       "      <td>125.750000</td>\n",
       "      <td>1986.750000</td>\n",
       "      <td>3.0</td>\n",
       "      <td>3.000000</td>\n",
       "      <td>5.000000</td>\n",
       "      <td>259.750000</td>\n",
       "      <td>250.000000</td>\n",
       "      <td>519.00000</td>\n",
       "      <td>279.000000</td>\n",
       "      <td>281.500000</td>\n",
       "      <td>557.750000</td>\n",
       "      <td>295.000000</td>\n",
       "      <td>295.000000</td>\n",
       "      <td>591.750000</td>\n",
       "      <td>30.000000</td>\n",
       "    </tr>\n",
       "    <tr>\n",
       "      <th>50%</th>\n",
       "      <td>250.500000</td>\n",
       "      <td>1992.500000</td>\n",
       "      <td>3.0</td>\n",
       "      <td>5.000000</td>\n",
       "      <td>8.000000</td>\n",
       "      <td>308.000000</td>\n",
       "      <td>311.500000</td>\n",
       "      <td>642.00000</td>\n",
       "      <td>333.500000</td>\n",
       "      <td>335.000000</td>\n",
       "      <td>691.000000</td>\n",
       "      <td>372.500000</td>\n",
       "      <td>375.000000</td>\n",
       "      <td>760.500000</td>\n",
       "      <td>63.000000</td>\n",
       "    </tr>\n",
       "    <tr>\n",
       "      <th>75%</th>\n",
       "      <td>375.250000</td>\n",
       "      <td>2000.000000</td>\n",
       "      <td>3.0</td>\n",
       "      <td>7.000000</td>\n",
       "      <td>13.250000</td>\n",
       "      <td>369.250000</td>\n",
       "      <td>377.250000</td>\n",
       "      <td>735.00000</td>\n",
       "      <td>395.250000</td>\n",
       "      <td>400.000000</td>\n",
       "      <td>790.500000</td>\n",
       "      <td>434.250000</td>\n",
       "      <td>437.250000</td>\n",
       "      <td>860.250000</td>\n",
       "      <td>83.000000</td>\n",
       "    </tr>\n",
       "    <tr>\n",
       "      <th>max</th>\n",
       "      <td>500.000000</td>\n",
       "      <td>2007.000000</td>\n",
       "      <td>3.0</td>\n",
       "      <td>10.000000</td>\n",
       "      <td>20.000000</td>\n",
       "      <td>495.000000</td>\n",
       "      <td>491.000000</td>\n",
       "      <td>970.00000</td>\n",
       "      <td>495.000000</td>\n",
       "      <td>495.000000</td>\n",
       "      <td>990.000000</td>\n",
       "      <td>495.000000</td>\n",
       "      <td>495.000000</td>\n",
       "      <td>990.000000</td>\n",
       "      <td>281.000000</td>\n",
       "    </tr>\n",
       "  </tbody>\n",
       "</table>\n",
       "</div>"
      ],
      "text/plain": [
       "               ID   Birth_Year    Seq  기출문제 공부 횟수  토익 모의테스트 횟수  1st_LC_Score  \\\n",
       "count  500.000000   500.000000  500.0  500.000000   500.000000    500.000000   \n",
       "mean   250.500000  1992.906000    3.0    5.092000     9.460000    313.878000   \n",
       "std    144.481833     8.224381    0.0    2.789103     4.955554     85.555611   \n",
       "min      1.000000  1973.000000    3.0    0.000000     1.000000    105.000000   \n",
       "25%    125.750000  1986.750000    3.0    3.000000     5.000000    259.750000   \n",
       "50%    250.500000  1992.500000    3.0    5.000000     8.000000    308.000000   \n",
       "75%    375.250000  2000.000000    3.0    7.000000    13.250000    369.250000   \n",
       "max    500.000000  2007.000000    3.0   10.000000    20.000000    495.000000   \n",
       "\n",
       "       1st_RC_Score  1st_Total_Score  2st_LC_Score  2st_RC_Score  \\\n",
       "count    500.000000        500.00000    500.000000    500.000000   \n",
       "mean     312.822000        626.70000    338.120000    338.154000   \n",
       "std       86.574966        148.57171     84.169535     83.854382   \n",
       "min       84.000000        250.00000    120.000000    129.000000   \n",
       "25%      250.000000        519.00000    279.000000    281.500000   \n",
       "50%      311.500000        642.00000    333.500000    335.000000   \n",
       "75%      377.250000        735.00000    395.250000    400.000000   \n",
       "max      491.000000        970.00000    495.000000    495.000000   \n",
       "\n",
       "       2st_Total_Score  3st_LC_Score  3st_RC_Score  3st_Total_Score  \\\n",
       "count       500.000000    500.000000    500.000000       500.000000   \n",
       "mean        676.284000    368.240000    369.518000       737.798000   \n",
       "std         153.178624     82.135393     81.665858       155.901584   \n",
       "min         260.000000    141.000000    135.000000       280.000000   \n",
       "25%         557.750000    295.000000    295.000000       591.750000   \n",
       "50%         691.000000    372.500000    375.000000       760.500000   \n",
       "75%         790.500000    434.250000    437.250000       860.250000   \n",
       "max         990.000000    495.000000    495.000000       990.000000   \n",
       "\n",
       "       Score_diff_total  \n",
       "count        500.000000  \n",
       "mean          61.514000  \n",
       "std           39.739051  \n",
       "min            0.000000  \n",
       "25%           30.000000  \n",
       "50%           63.000000  \n",
       "75%           83.000000  \n",
       "max          281.000000  "
      ]
     },
     "execution_count": 45,
     "metadata": {},
     "output_type": "execute_result"
    }
   ],
   "source": [
    "# describe 함수 활용\n",
    "data.describe()"
   ]
  },
  {
   "cell_type": "code",
   "execution_count": 46,
   "metadata": {},
   "outputs": [],
   "source": [
    "#[문제] 위에서 출력한 통계량 데이터프레임의 행과 열을 서로 바꾸어 출력하세요."
   ]
  },
  {
   "cell_type": "code",
   "execution_count": 47,
   "metadata": {},
   "outputs": [
    {
     "data": {
      "text/html": [
       "<div>\n",
       "<style scoped>\n",
       "    .dataframe tbody tr th:only-of-type {\n",
       "        vertical-align: middle;\n",
       "    }\n",
       "\n",
       "    .dataframe tbody tr th {\n",
       "        vertical-align: top;\n",
       "    }\n",
       "\n",
       "    .dataframe thead th {\n",
       "        text-align: right;\n",
       "    }\n",
       "</style>\n",
       "<table border=\"1\" class=\"dataframe\">\n",
       "  <thead>\n",
       "    <tr style=\"text-align: right;\">\n",
       "      <th></th>\n",
       "      <th>count</th>\n",
       "      <th>mean</th>\n",
       "      <th>std</th>\n",
       "      <th>min</th>\n",
       "      <th>25%</th>\n",
       "      <th>50%</th>\n",
       "      <th>75%</th>\n",
       "      <th>max</th>\n",
       "    </tr>\n",
       "  </thead>\n",
       "  <tbody>\n",
       "    <tr>\n",
       "      <th>ID</th>\n",
       "      <td>500.0</td>\n",
       "      <td>250.500</td>\n",
       "      <td>144.481833</td>\n",
       "      <td>1.0</td>\n",
       "      <td>125.75</td>\n",
       "      <td>250.5</td>\n",
       "      <td>375.25</td>\n",
       "      <td>500.0</td>\n",
       "    </tr>\n",
       "    <tr>\n",
       "      <th>Birth_Year</th>\n",
       "      <td>500.0</td>\n",
       "      <td>1992.906</td>\n",
       "      <td>8.224381</td>\n",
       "      <td>1973.0</td>\n",
       "      <td>1986.75</td>\n",
       "      <td>1992.5</td>\n",
       "      <td>2000.00</td>\n",
       "      <td>2007.0</td>\n",
       "    </tr>\n",
       "    <tr>\n",
       "      <th>Seq</th>\n",
       "      <td>500.0</td>\n",
       "      <td>3.000</td>\n",
       "      <td>0.000000</td>\n",
       "      <td>3.0</td>\n",
       "      <td>3.00</td>\n",
       "      <td>3.0</td>\n",
       "      <td>3.00</td>\n",
       "      <td>3.0</td>\n",
       "    </tr>\n",
       "    <tr>\n",
       "      <th>기출문제 공부 횟수</th>\n",
       "      <td>500.0</td>\n",
       "      <td>5.092</td>\n",
       "      <td>2.789103</td>\n",
       "      <td>0.0</td>\n",
       "      <td>3.00</td>\n",
       "      <td>5.0</td>\n",
       "      <td>7.00</td>\n",
       "      <td>10.0</td>\n",
       "    </tr>\n",
       "    <tr>\n",
       "      <th>토익 모의테스트 횟수</th>\n",
       "      <td>500.0</td>\n",
       "      <td>9.460</td>\n",
       "      <td>4.955554</td>\n",
       "      <td>1.0</td>\n",
       "      <td>5.00</td>\n",
       "      <td>8.0</td>\n",
       "      <td>13.25</td>\n",
       "      <td>20.0</td>\n",
       "    </tr>\n",
       "    <tr>\n",
       "      <th>1st_LC_Score</th>\n",
       "      <td>500.0</td>\n",
       "      <td>313.878</td>\n",
       "      <td>85.555611</td>\n",
       "      <td>105.0</td>\n",
       "      <td>259.75</td>\n",
       "      <td>308.0</td>\n",
       "      <td>369.25</td>\n",
       "      <td>495.0</td>\n",
       "    </tr>\n",
       "    <tr>\n",
       "      <th>1st_RC_Score</th>\n",
       "      <td>500.0</td>\n",
       "      <td>312.822</td>\n",
       "      <td>86.574966</td>\n",
       "      <td>84.0</td>\n",
       "      <td>250.00</td>\n",
       "      <td>311.5</td>\n",
       "      <td>377.25</td>\n",
       "      <td>491.0</td>\n",
       "    </tr>\n",
       "    <tr>\n",
       "      <th>1st_Total_Score</th>\n",
       "      <td>500.0</td>\n",
       "      <td>626.700</td>\n",
       "      <td>148.571710</td>\n",
       "      <td>250.0</td>\n",
       "      <td>519.00</td>\n",
       "      <td>642.0</td>\n",
       "      <td>735.00</td>\n",
       "      <td>970.0</td>\n",
       "    </tr>\n",
       "    <tr>\n",
       "      <th>2st_LC_Score</th>\n",
       "      <td>500.0</td>\n",
       "      <td>338.120</td>\n",
       "      <td>84.169535</td>\n",
       "      <td>120.0</td>\n",
       "      <td>279.00</td>\n",
       "      <td>333.5</td>\n",
       "      <td>395.25</td>\n",
       "      <td>495.0</td>\n",
       "    </tr>\n",
       "    <tr>\n",
       "      <th>2st_RC_Score</th>\n",
       "      <td>500.0</td>\n",
       "      <td>338.154</td>\n",
       "      <td>83.854382</td>\n",
       "      <td>129.0</td>\n",
       "      <td>281.50</td>\n",
       "      <td>335.0</td>\n",
       "      <td>400.00</td>\n",
       "      <td>495.0</td>\n",
       "    </tr>\n",
       "    <tr>\n",
       "      <th>2st_Total_Score</th>\n",
       "      <td>500.0</td>\n",
       "      <td>676.284</td>\n",
       "      <td>153.178624</td>\n",
       "      <td>260.0</td>\n",
       "      <td>557.75</td>\n",
       "      <td>691.0</td>\n",
       "      <td>790.50</td>\n",
       "      <td>990.0</td>\n",
       "    </tr>\n",
       "    <tr>\n",
       "      <th>3st_LC_Score</th>\n",
       "      <td>500.0</td>\n",
       "      <td>368.240</td>\n",
       "      <td>82.135393</td>\n",
       "      <td>141.0</td>\n",
       "      <td>295.00</td>\n",
       "      <td>372.5</td>\n",
       "      <td>434.25</td>\n",
       "      <td>495.0</td>\n",
       "    </tr>\n",
       "    <tr>\n",
       "      <th>3st_RC_Score</th>\n",
       "      <td>500.0</td>\n",
       "      <td>369.518</td>\n",
       "      <td>81.665858</td>\n",
       "      <td>135.0</td>\n",
       "      <td>295.00</td>\n",
       "      <td>375.0</td>\n",
       "      <td>437.25</td>\n",
       "      <td>495.0</td>\n",
       "    </tr>\n",
       "    <tr>\n",
       "      <th>3st_Total_Score</th>\n",
       "      <td>500.0</td>\n",
       "      <td>737.798</td>\n",
       "      <td>155.901584</td>\n",
       "      <td>280.0</td>\n",
       "      <td>591.75</td>\n",
       "      <td>760.5</td>\n",
       "      <td>860.25</td>\n",
       "      <td>990.0</td>\n",
       "    </tr>\n",
       "    <tr>\n",
       "      <th>Score_diff_total</th>\n",
       "      <td>500.0</td>\n",
       "      <td>61.514</td>\n",
       "      <td>39.739051</td>\n",
       "      <td>0.0</td>\n",
       "      <td>30.00</td>\n",
       "      <td>63.0</td>\n",
       "      <td>83.00</td>\n",
       "      <td>281.0</td>\n",
       "    </tr>\n",
       "  </tbody>\n",
       "</table>\n",
       "</div>"
      ],
      "text/plain": [
       "                  count      mean         std     min      25%     50%  \\\n",
       "ID                500.0   250.500  144.481833     1.0   125.75   250.5   \n",
       "Birth_Year        500.0  1992.906    8.224381  1973.0  1986.75  1992.5   \n",
       "Seq               500.0     3.000    0.000000     3.0     3.00     3.0   \n",
       "기출문제 공부 횟수        500.0     5.092    2.789103     0.0     3.00     5.0   \n",
       "토익 모의테스트 횟수       500.0     9.460    4.955554     1.0     5.00     8.0   \n",
       "1st_LC_Score      500.0   313.878   85.555611   105.0   259.75   308.0   \n",
       "1st_RC_Score      500.0   312.822   86.574966    84.0   250.00   311.5   \n",
       "1st_Total_Score   500.0   626.700  148.571710   250.0   519.00   642.0   \n",
       "2st_LC_Score      500.0   338.120   84.169535   120.0   279.00   333.5   \n",
       "2st_RC_Score      500.0   338.154   83.854382   129.0   281.50   335.0   \n",
       "2st_Total_Score   500.0   676.284  153.178624   260.0   557.75   691.0   \n",
       "3st_LC_Score      500.0   368.240   82.135393   141.0   295.00   372.5   \n",
       "3st_RC_Score      500.0   369.518   81.665858   135.0   295.00   375.0   \n",
       "3st_Total_Score   500.0   737.798  155.901584   280.0   591.75   760.5   \n",
       "Score_diff_total  500.0    61.514   39.739051     0.0    30.00    63.0   \n",
       "\n",
       "                      75%     max  \n",
       "ID                 375.25   500.0  \n",
       "Birth_Year        2000.00  2007.0  \n",
       "Seq                  3.00     3.0  \n",
       "기출문제 공부 횟수           7.00    10.0  \n",
       "토익 모의테스트 횟수         13.25    20.0  \n",
       "1st_LC_Score       369.25   495.0  \n",
       "1st_RC_Score       377.25   491.0  \n",
       "1st_Total_Score    735.00   970.0  \n",
       "2st_LC_Score       395.25   495.0  \n",
       "2st_RC_Score       400.00   495.0  \n",
       "2st_Total_Score    790.50   990.0  \n",
       "3st_LC_Score       434.25   495.0  \n",
       "3st_RC_Score       437.25   495.0  \n",
       "3st_Total_Score    860.25   990.0  \n",
       "Score_diff_total    83.00   281.0  "
      ]
     },
     "execution_count": 47,
     "metadata": {},
     "output_type": "execute_result"
    }
   ],
   "source": [
    "#'T'는 데이터프레임의 전치(Transpose)를 의미함\n",
    "# descibe 함수 활용\n",
    "data.describe().T"
   ]
  },
  {
   "cell_type": "code",
   "execution_count": 48,
   "metadata": {},
   "outputs": [],
   "source": [
    "#[문제] Gender 컬럼의 값 별 개수를 확인해주세요. (Gender M : 남자, F : 여자)"
   ]
  },
  {
   "cell_type": "code",
   "execution_count": 49,
   "metadata": {},
   "outputs": [
    {
     "data": {
      "text/plain": [
       "Gender\n",
       "M    250\n",
       "F    250\n",
       "Name: count, dtype: int64"
      ]
     },
     "execution_count": 49,
     "metadata": {},
     "output_type": "execute_result"
    }
   ],
   "source": [
    "# value_counts 함수 활용\n",
    "data['Gender'].value_counts()"
   ]
  },
  {
   "cell_type": "code",
   "execution_count": 50,
   "metadata": {},
   "outputs": [],
   "source": [
    "#[문제] 'Gender' 컬럼의 ['M', 'F'] --> [1,2]로 변경해해보세요."
   ]
  },
  {
   "cell_type": "code",
   "execution_count": 51,
   "metadata": {},
   "outputs": [
    {
     "name": "stderr",
     "output_type": "stream",
     "text": [
      "C:\\Users\\User\\AppData\\Local\\Temp\\ipykernel_4636\\574216473.py:2: FutureWarning: Downcasting behavior in `replace` is deprecated and will be removed in a future version. To retain the old behavior, explicitly call `result.infer_objects(copy=False)`. To opt-in to the future behavior, set `pd.set_option('future.no_silent_downcasting', True)`\n",
      "  data.replace({'Gender': {'M' : 1, 'F': 2}}, inplace = True)\n"
     ]
    }
   ],
   "source": [
    "# replace 함수 활용\n",
    "data.replace({'Gender': {'M' : 1, 'F': 2}}, inplace = True)"
   ]
  },
  {
   "cell_type": "code",
   "execution_count": 52,
   "metadata": {},
   "outputs": [],
   "source": [
    "#[문제] Gender 컬럼의 값 별 개수를 다시 확인해주세요."
   ]
  },
  {
   "cell_type": "code",
   "execution_count": 53,
   "metadata": {},
   "outputs": [
    {
     "data": {
      "text/plain": [
       "Gender\n",
       "1    250\n",
       "2    250\n",
       "Name: count, dtype: int64"
      ]
     },
     "execution_count": 53,
     "metadata": {},
     "output_type": "execute_result"
    }
   ],
   "source": [
    "data['Gender'].value_counts()"
   ]
  },
  {
   "cell_type": "code",
   "execution_count": 54,
   "metadata": {},
   "outputs": [],
   "source": [
    "#[문제] 'Gender' 컬럼 타입을 object에서 int로 변경해보세요."
   ]
  },
  {
   "cell_type": "code",
   "execution_count": 55,
   "metadata": {},
   "outputs": [],
   "source": [
    "#astype 함수 활용\n",
    "data['Gender'] = data['Gender'].astype(int)"
   ]
  },
  {
   "cell_type": "code",
   "execution_count": 56,
   "metadata": {},
   "outputs": [],
   "source": [
    "#[문제] data 데이터 프레임에서 Null 데이터가 있는지 확인해주세요."
   ]
  },
  {
   "cell_type": "code",
   "execution_count": 57,
   "metadata": {},
   "outputs": [
    {
     "data": {
      "text/plain": [
       "ID                  0\n",
       "Gender              0\n",
       "Birth_Year          0\n",
       "Seq                 0\n",
       "학습목표                0\n",
       "학습방법                0\n",
       "강의 학습 교재 유형         0\n",
       "학습빈도                0\n",
       "기출문제 공부 횟수          0\n",
       "취약분야 인지 여부          0\n",
       "토익 모의테스트 횟수         0\n",
       "1st_LC_Score        0\n",
       "1st_RC_Score        0\n",
       "1st_Total_Score     0\n",
       "2st_LC_Score        0\n",
       "2st_RC_Score        0\n",
       "2st_Total_Score     0\n",
       "3st_LC_Score        0\n",
       "3st_RC_Score        0\n",
       "3st_Total_Score     0\n",
       "Score_diff_total    0\n",
       "dtype: int64"
      ]
     },
     "execution_count": 57,
     "metadata": {},
     "output_type": "execute_result"
    }
   ],
   "source": [
    "data.isnull().sum()"
   ]
  },
  {
   "cell_type": "markdown",
   "metadata": {
    "id": "jImSiMfNOZVV"
   },
   "source": [
    "### (2) 주요 변수의 분포를 살펴보기\n",
    "\n"
   ]
  },
  {
   "cell_type": "markdown",
   "metadata": {
    "id": "Alrep64H48M0"
   },
   "source": [
    "* **세부 요구사항**\n",
    "    - 주요 변수들의 분포를 살펴보자.\n",
    "        * 대상 : 최종 차수 점수 변화, 생년월일, 학습목표, 학습방법, 강의 학습 교재 유형\n",
    "        * 도구 : 기초통계량, bar차트를 통한 데이터 분포 파악\n",
    "    - 전체 현황과 각 변수별 현황을 비교해보고 결과를 저장하자."
   ]
  },
  {
   "cell_type": "markdown",
   "metadata": {
    "id": "BP8iBi7We3AI"
   },
   "source": [
    "#### 1) 열 데이터 탐색 및 시각화 : 최종 차수 점수 변화(Score_diff_total)"
   ]
  },
  {
   "cell_type": "code",
   "execution_count": 61,
   "metadata": {},
   "outputs": [],
   "source": [
    "#[문제] 변수 Sdt에 문자열 'Score_diff_total'을 할당 하세요."
   ]
  },
  {
   "cell_type": "code",
   "execution_count": 62,
   "metadata": {},
   "outputs": [],
   "source": [
    "Sdt = 'Score_diff_total'"
   ]
  },
  {
   "cell_type": "code",
   "execution_count": 63,
   "metadata": {
    "id": "h-BWoX3kJxrR"
   },
   "outputs": [],
   "source": [
    "#[문제] 'data' 데이터프레임의 'Score_diff_total'열에 대한 기술 통계 정보를 데이터 프레임의 형태로 출력해주세요."
   ]
  },
  {
   "cell_type": "code",
   "execution_count": 64,
   "metadata": {},
   "outputs": [
    {
     "data": {
      "text/html": [
       "<div>\n",
       "<style scoped>\n",
       "    .dataframe tbody tr th:only-of-type {\n",
       "        vertical-align: middle;\n",
       "    }\n",
       "\n",
       "    .dataframe tbody tr th {\n",
       "        vertical-align: top;\n",
       "    }\n",
       "\n",
       "    .dataframe thead th {\n",
       "        text-align: right;\n",
       "    }\n",
       "</style>\n",
       "<table border=\"1\" class=\"dataframe\">\n",
       "  <thead>\n",
       "    <tr style=\"text-align: right;\">\n",
       "      <th></th>\n",
       "      <th>Score_diff_total</th>\n",
       "    </tr>\n",
       "  </thead>\n",
       "  <tbody>\n",
       "    <tr>\n",
       "      <th>count</th>\n",
       "      <td>500.000000</td>\n",
       "    </tr>\n",
       "    <tr>\n",
       "      <th>mean</th>\n",
       "      <td>61.514000</td>\n",
       "    </tr>\n",
       "    <tr>\n",
       "      <th>std</th>\n",
       "      <td>39.739051</td>\n",
       "    </tr>\n",
       "    <tr>\n",
       "      <th>min</th>\n",
       "      <td>0.000000</td>\n",
       "    </tr>\n",
       "    <tr>\n",
       "      <th>25%</th>\n",
       "      <td>30.000000</td>\n",
       "    </tr>\n",
       "    <tr>\n",
       "      <th>50%</th>\n",
       "      <td>63.000000</td>\n",
       "    </tr>\n",
       "    <tr>\n",
       "      <th>75%</th>\n",
       "      <td>83.000000</td>\n",
       "    </tr>\n",
       "    <tr>\n",
       "      <th>max</th>\n",
       "      <td>281.000000</td>\n",
       "    </tr>\n",
       "  </tbody>\n",
       "</table>\n",
       "</div>"
      ],
      "text/plain": [
       "       Score_diff_total\n",
       "count        500.000000\n",
       "mean          61.514000\n",
       "std           39.739051\n",
       "min            0.000000\n",
       "25%           30.000000\n",
       "50%           63.000000\n",
       "75%           83.000000\n",
       "max          281.000000"
      ]
     },
     "execution_count": 64,
     "metadata": {},
     "output_type": "execute_result"
    }
   ],
   "source": [
    "# describe() 함수 활용\n",
    "data[[Sdt]].describe()"
   ]
  },
  {
   "cell_type": "code",
   "execution_count": 65,
   "metadata": {},
   "outputs": [],
   "source": [
    "#[문제] 위에서 추출한 데이터의 'Score_diff_total'에 대해 행과 열을 변환하여 기술 통계 정보를 출력해주세요."
   ]
  },
  {
   "cell_type": "code",
   "execution_count": 66,
   "metadata": {},
   "outputs": [
    {
     "data": {
      "text/html": [
       "<div>\n",
       "<style scoped>\n",
       "    .dataframe tbody tr th:only-of-type {\n",
       "        vertical-align: middle;\n",
       "    }\n",
       "\n",
       "    .dataframe tbody tr th {\n",
       "        vertical-align: top;\n",
       "    }\n",
       "\n",
       "    .dataframe thead th {\n",
       "        text-align: right;\n",
       "    }\n",
       "</style>\n",
       "<table border=\"1\" class=\"dataframe\">\n",
       "  <thead>\n",
       "    <tr style=\"text-align: right;\">\n",
       "      <th></th>\n",
       "      <th>count</th>\n",
       "      <th>mean</th>\n",
       "      <th>std</th>\n",
       "      <th>min</th>\n",
       "      <th>25%</th>\n",
       "      <th>50%</th>\n",
       "      <th>75%</th>\n",
       "      <th>max</th>\n",
       "    </tr>\n",
       "  </thead>\n",
       "  <tbody>\n",
       "    <tr>\n",
       "      <th>Score_diff_total</th>\n",
       "      <td>500.0</td>\n",
       "      <td>61.514</td>\n",
       "      <td>39.739051</td>\n",
       "      <td>0.0</td>\n",
       "      <td>30.0</td>\n",
       "      <td>63.0</td>\n",
       "      <td>83.0</td>\n",
       "      <td>281.0</td>\n",
       "    </tr>\n",
       "  </tbody>\n",
       "</table>\n",
       "</div>"
      ],
      "text/plain": [
       "                  count    mean        std  min   25%   50%   75%    max\n",
       "Score_diff_total  500.0  61.514  39.739051  0.0  30.0  63.0  83.0  281.0"
      ]
     },
     "execution_count": 66,
     "metadata": {},
     "output_type": "execute_result"
    }
   ],
   "source": [
    "# describe().T 함수 활용\n",
    "data[[Sdt]].describe().T"
   ]
  },
  {
   "cell_type": "markdown",
   "metadata": {
    "id": "p8duvD7p-XbP"
   },
   "source": [
    "#### 2) 열 추가 : Bitrh_Year\n",
    "* 출생연도로 부터 나이 변수를 추출해 봅시다."
   ]
  },
  {
   "cell_type": "code",
   "execution_count": 68,
   "metadata": {},
   "outputs": [],
   "source": [
    "#[문제] 변수 BY에 문자열 'Birth_Year'을 할당하세요."
   ]
  },
  {
   "cell_type": "code",
   "execution_count": 69,
   "metadata": {},
   "outputs": [],
   "source": [
    "BY = 'Birth_Year'"
   ]
  },
  {
   "cell_type": "code",
   "execution_count": 70,
   "metadata": {
    "id": "KokcDzGfXwMW"
   },
   "outputs": [],
   "source": [
    "#[문제] 'data' 데이터프레임의 'Birth_Year'열에 대한 기술 통계 정보를 출력해주세요.\n",
    "#'Birth_Year'에 대해 행과 열을 변환하여 기술 통계 정보를 출력해주세요."
   ]
  },
  {
   "cell_type": "code",
   "execution_count": 71,
   "metadata": {},
   "outputs": [
    {
     "data": {
      "text/plain": [
       "count     500.000000\n",
       "mean     1992.906000\n",
       "std         8.224381\n",
       "min      1973.000000\n",
       "25%      1986.750000\n",
       "50%      1992.500000\n",
       "75%      2000.000000\n",
       "max      2007.000000\n",
       "Name: Birth_Year, dtype: float64"
      ]
     },
     "execution_count": 71,
     "metadata": {},
     "output_type": "execute_result"
    }
   ],
   "source": [
    "# describe().T 함수 활용\n",
    "data[BY].describe()"
   ]
  },
  {
   "cell_type": "code",
   "execution_count": 72,
   "metadata": {},
   "outputs": [],
   "source": [
    "#[문제] 'data' 데이터프레임의 'Birth_Year' 컬럼의 연도별 개수를 Bar 차트로 그리세요."
   ]
  },
  {
   "cell_type": "code",
   "execution_count": 73,
   "metadata": {},
   "outputs": [
    {
     "data": {
      "text/plain": [
       "<Axes: xlabel='Birth_Year'>"
      ]
     },
     "execution_count": 73,
     "metadata": {},
     "output_type": "execute_result"
    },
    {
     "data": {
      "image/png": "[encoded data removed]",
      "text/plain": [
       "<Figure size 640x480 with 1 Axes>"
      ]
     },
     "metadata": {},
     "output_type": "display_data"
    }
   ],
   "source": [
    "# DataFrame value_counts()와 plot() 함수 활용\n",
    "# 대상 컬럼 : 'Birth_Year'\n",
    "# plot 함수의 인자 : kind='bar'\n",
    "\n",
    "data['Birth_Year'].value_counts().sort_index().plot(kind='bar')"
   ]
  },
  {
   "cell_type": "markdown",
   "metadata": {
    "tags": []
   },
   "source": [
    "#### 3) 고유값 확인 : 컬럼 출력"
   ]
  },
  {
   "cell_type": "code",
   "execution_count": 75,
   "metadata": {},
   "outputs": [],
   "source": [
    "#[문제] data 데이터프레임에서 object 컬럼에 대해서만 추출해서 보여주세요."
   ]
  },
  {
   "cell_type": "code",
   "execution_count": 76,
   "metadata": {},
   "outputs": [
    {
     "data": {
      "text/html": [
       "<div>\n",
       "<style scoped>\n",
       "    .dataframe tbody tr th:only-of-type {\n",
       "        vertical-align: middle;\n",
       "    }\n",
       "\n",
       "    .dataframe tbody tr th {\n",
       "        vertical-align: top;\n",
       "    }\n",
       "\n",
       "    .dataframe thead th {\n",
       "        text-align: right;\n",
       "    }\n",
       "</style>\n",
       "<table border=\"1\" class=\"dataframe\">\n",
       "  <thead>\n",
       "    <tr style=\"text-align: right;\">\n",
       "      <th></th>\n",
       "      <th>학습목표</th>\n",
       "      <th>학습방법</th>\n",
       "      <th>강의 학습 교재 유형</th>\n",
       "      <th>학습빈도</th>\n",
       "      <th>취약분야 인지 여부</th>\n",
       "    </tr>\n",
       "  </thead>\n",
       "  <tbody>\n",
       "    <tr>\n",
       "      <th>0</th>\n",
       "      <td>승진</td>\n",
       "      <td>온라인강의</td>\n",
       "      <td>영상 교재</td>\n",
       "      <td>주5-6회</td>\n",
       "      <td>알고 있음</td>\n",
       "    </tr>\n",
       "    <tr>\n",
       "      <th>1</th>\n",
       "      <td>승진</td>\n",
       "      <td>온라인강의</td>\n",
       "      <td>뉴스/이슈 기반 교재</td>\n",
       "      <td>주5-6회</td>\n",
       "      <td>알고 있음</td>\n",
       "    </tr>\n",
       "    <tr>\n",
       "      <th>2</th>\n",
       "      <td>자기계발</td>\n",
       "      <td>참고서</td>\n",
       "      <td>일반적인 영어 텍스트 기반 교재</td>\n",
       "      <td>주1-2회</td>\n",
       "      <td>알고 있음</td>\n",
       "    </tr>\n",
       "    <tr>\n",
       "      <th>3</th>\n",
       "      <td>승진</td>\n",
       "      <td>온라인강의</td>\n",
       "      <td>뉴스/이슈 기반 교재</td>\n",
       "      <td>주3-4회</td>\n",
       "      <td>알고 있음</td>\n",
       "    </tr>\n",
       "    <tr>\n",
       "      <th>4</th>\n",
       "      <td>자기계발</td>\n",
       "      <td>온라인강의</td>\n",
       "      <td>영상 교재</td>\n",
       "      <td>주3-4회</td>\n",
       "      <td>알고 있음</td>\n",
       "    </tr>\n",
       "    <tr>\n",
       "      <th>...</th>\n",
       "      <td>...</td>\n",
       "      <td>...</td>\n",
       "      <td>...</td>\n",
       "      <td>...</td>\n",
       "      <td>...</td>\n",
       "    </tr>\n",
       "    <tr>\n",
       "      <th>495</th>\n",
       "      <td>자기계발</td>\n",
       "      <td>온라인강의</td>\n",
       "      <td>일반적인 영어 텍스트 기반 교재</td>\n",
       "      <td>매일(주 7회)</td>\n",
       "      <td>알고 있음</td>\n",
       "    </tr>\n",
       "    <tr>\n",
       "      <th>496</th>\n",
       "      <td>승진</td>\n",
       "      <td>온라인강의</td>\n",
       "      <td>비즈니스 시뮬레이션(Role Play)</td>\n",
       "      <td>매일(주 7회)</td>\n",
       "      <td>알고 있음</td>\n",
       "    </tr>\n",
       "    <tr>\n",
       "      <th>497</th>\n",
       "      <td>자기계발</td>\n",
       "      <td>오프라인강의</td>\n",
       "      <td>일반적인 영어 텍스트 기반 교재</td>\n",
       "      <td>주1-2회</td>\n",
       "      <td>알고 있음</td>\n",
       "    </tr>\n",
       "    <tr>\n",
       "      <th>498</th>\n",
       "      <td>자기계발</td>\n",
       "      <td>오프라인강의</td>\n",
       "      <td>비즈니스 시뮬레이션(Role Play)</td>\n",
       "      <td>주3-4회</td>\n",
       "      <td>알고 있음</td>\n",
       "    </tr>\n",
       "    <tr>\n",
       "      <th>499</th>\n",
       "      <td>승진</td>\n",
       "      <td>오프라인강의</td>\n",
       "      <td>비즈니스 시뮬레이션(Role Play)</td>\n",
       "      <td>주5-6회</td>\n",
       "      <td>알고 있음</td>\n",
       "    </tr>\n",
       "  </tbody>\n",
       "</table>\n",
       "<p>500 rows × 5 columns</p>\n",
       "</div>"
      ],
      "text/plain": [
       "     학습목표    학습방법            강의 학습 교재 유형      학습빈도 취약분야 인지 여부\n",
       "0      승진   온라인강의                  영상 교재     주5-6회      알고 있음\n",
       "1      승진   온라인강의            뉴스/이슈 기반 교재     주5-6회      알고 있음\n",
       "2    자기계발     참고서      일반적인 영어 텍스트 기반 교재     주1-2회      알고 있음\n",
       "3      승진   온라인강의            뉴스/이슈 기반 교재     주3-4회      알고 있음\n",
       "4    자기계발   온라인강의                  영상 교재     주3-4회      알고 있음\n",
       "..    ...     ...                    ...       ...        ...\n",
       "495  자기계발   온라인강의      일반적인 영어 텍스트 기반 교재  매일(주 7회)      알고 있음\n",
       "496    승진   온라인강의  비즈니스 시뮬레이션(Role Play)  매일(주 7회)      알고 있음\n",
       "497  자기계발  오프라인강의      일반적인 영어 텍스트 기반 교재     주1-2회      알고 있음\n",
       "498  자기계발  오프라인강의  비즈니스 시뮬레이션(Role Play)     주3-4회      알고 있음\n",
       "499    승진  오프라인강의  비즈니스 시뮬레이션(Role Play)     주5-6회      알고 있음\n",
       "\n",
       "[500 rows x 5 columns]"
      ]
     },
     "execution_count": 76,
     "metadata": {},
     "output_type": "execute_result"
    }
   ],
   "source": [
    "# select_dtypes() 함수 활용\n",
    "data.select_dtypes(include=['object'])"
   ]
  },
  {
   "cell_type": "code",
   "execution_count": 77,
   "metadata": {},
   "outputs": [],
   "source": [
    "#[문제] 데이터 타입이 Object 형태인 컬럼의 컬럼명만 추출해서 출력해 보세요."
   ]
  },
  {
   "cell_type": "code",
   "execution_count": 78,
   "metadata": {},
   "outputs": [
    {
     "name": "stdout",
     "output_type": "stream",
     "text": [
      "['학습목표' '학습방법' '강의 학습 교재 유형' '학습빈도' '취약분야 인지 여부']\n"
     ]
    }
   ],
   "source": [
    "# columns.values 활용\n",
    "print(data.select_dtypes(include=['object']).columns.values)"
   ]
  },
  {
   "cell_type": "markdown",
   "metadata": {
    "id": "Py-fsDa-f3gr"
   },
   "source": [
    "#### 4) 고유값 확인 및 시각화 : 학습목표"
   ]
  },
  {
   "cell_type": "code",
   "execution_count": 80,
   "metadata": {},
   "outputs": [],
   "source": [
    "#[문제] 변수 '학습목표'의 값들의 빈도수를 계산하여 출력하세요."
   ]
  },
  {
   "cell_type": "code",
   "execution_count": 81,
   "metadata": {},
   "outputs": [
    {
     "data": {
      "text/plain": [
       "학습목표\n",
       "자기계발    329\n",
       "승진      155\n",
       "취업       16\n",
       "Name: count, dtype: int64"
      ]
     },
     "execution_count": 81,
     "metadata": {},
     "output_type": "execute_result"
    }
   ],
   "source": [
    "# value_counts 함수 활용\n",
    "data['학습목표'].value_counts()"
   ]
  },
  {
   "cell_type": "code",
   "execution_count": 82,
   "metadata": {},
   "outputs": [],
   "source": [
    "#[문제] data 데이터프레임의 전체 열과 행 개수를 각각 출력해 보세요."
   ]
  },
  {
   "cell_type": "code",
   "execution_count": 83,
   "metadata": {},
   "outputs": [
    {
     "data": {
      "text/plain": [
       "21"
      ]
     },
     "execution_count": 83,
     "metadata": {},
     "output_type": "execute_result"
    }
   ],
   "source": [
    "#열의 개수\n",
    "data.shape[1]"
   ]
  },
  {
   "cell_type": "code",
   "execution_count": 84,
   "metadata": {},
   "outputs": [
    {
     "data": {
      "text/plain": [
       "500"
      ]
     },
     "execution_count": 84,
     "metadata": {},
     "output_type": "execute_result"
    }
   ],
   "source": [
    "#행의 개수\n",
    "data.shape[0]"
   ]
  },
  {
   "cell_type": "code",
   "execution_count": 85,
   "metadata": {},
   "outputs": [],
   "source": [
    "#[문제] 변수 '학습목표'의 값들의 빈도수를 전체 데이터의 개수로 나누어서 해당 값들이 전체 데이터에서 차지하는 비율을 구하세요."
   ]
  },
  {
   "cell_type": "code",
   "execution_count": 86,
   "metadata": {},
   "outputs": [
    {
     "data": {
      "text/plain": [
       "학습목표\n",
       "자기계발    0.658\n",
       "승진      0.310\n",
       "취업      0.032\n",
       "Name: count, dtype: float64"
      ]
     },
     "execution_count": 86,
     "metadata": {},
     "output_type": "execute_result"
    }
   ],
   "source": [
    "data['학습목표'].value_counts() / data.shape[0]"
   ]
  },
  {
   "cell_type": "code",
   "execution_count": 87,
   "metadata": {
    "id": "aGeYxzXqYXtQ"
   },
   "outputs": [],
   "source": [
    "#[문제] '학습목표' 컬럼에 대한 Bar 차트를 확인해주세요."
   ]
  },
  {
   "cell_type": "code",
   "execution_count": 88,
   "metadata": {},
   "outputs": [
    {
     "data": {
      "image/png": "[encoded data removed]",
      "text/plain": [
       "<Figure size 640x480 with 1 Axes>"
      ]
     },
     "metadata": {},
     "output_type": "display_data"
    }
   ],
   "source": [
    "# DataFrame value_counts()와 plot() 함수 활용\n",
    "# 대상 컬럼 : '학습목표'\n",
    "# plot 함수의 인자 : kind='bar'\n",
    "\n",
    "ob = data['학습목표'].value_counts()\n",
    "ob.plot(kind='bar')\n",
    "plt.show()"
   ]
  },
  {
   "cell_type": "code",
   "execution_count": 89,
   "metadata": {},
   "outputs": [],
   "source": [
    "#[문제] 'data' 전체 데이터프레임의 숫자형 컬럼, number 컬럼에 대해 검색해주세요."
   ]
  },
  {
   "cell_type": "code",
   "execution_count": 90,
   "metadata": {},
   "outputs": [
    {
     "data": {
      "text/html": [
       "<div>\n",
       "<style scoped>\n",
       "    .dataframe tbody tr th:only-of-type {\n",
       "        vertical-align: middle;\n",
       "    }\n",
       "\n",
       "    .dataframe tbody tr th {\n",
       "        vertical-align: top;\n",
       "    }\n",
       "\n",
       "    .dataframe thead th {\n",
       "        text-align: right;\n",
       "    }\n",
       "</style>\n",
       "<table border=\"1\" class=\"dataframe\">\n",
       "  <thead>\n",
       "    <tr style=\"text-align: right;\">\n",
       "      <th></th>\n",
       "      <th>ID</th>\n",
       "      <th>Gender</th>\n",
       "      <th>Birth_Year</th>\n",
       "      <th>Seq</th>\n",
       "      <th>기출문제 공부 횟수</th>\n",
       "      <th>토익 모의테스트 횟수</th>\n",
       "      <th>1st_LC_Score</th>\n",
       "      <th>1st_RC_Score</th>\n",
       "      <th>1st_Total_Score</th>\n",
       "      <th>2st_LC_Score</th>\n",
       "      <th>2st_RC_Score</th>\n",
       "      <th>2st_Total_Score</th>\n",
       "      <th>3st_LC_Score</th>\n",
       "      <th>3st_RC_Score</th>\n",
       "      <th>3st_Total_Score</th>\n",
       "      <th>Score_diff_total</th>\n",
       "    </tr>\n",
       "  </thead>\n",
       "  <tbody>\n",
       "    <tr>\n",
       "      <th>0</th>\n",
       "      <td>1</td>\n",
       "      <td>1</td>\n",
       "      <td>1973</td>\n",
       "      <td>3</td>\n",
       "      <td>7.0</td>\n",
       "      <td>10</td>\n",
       "      <td>181</td>\n",
       "      <td>173</td>\n",
       "      <td>354</td>\n",
       "      <td>227</td>\n",
       "      <td>213</td>\n",
       "      <td>440</td>\n",
       "      <td>345</td>\n",
       "      <td>336</td>\n",
       "      <td>681</td>\n",
       "      <td>241</td>\n",
       "    </tr>\n",
       "    <tr>\n",
       "      <th>1</th>\n",
       "      <td>2</td>\n",
       "      <td>2</td>\n",
       "      <td>1982</td>\n",
       "      <td>3</td>\n",
       "      <td>4.0</td>\n",
       "      <td>14</td>\n",
       "      <td>330</td>\n",
       "      <td>290</td>\n",
       "      <td>620</td>\n",
       "      <td>354</td>\n",
       "      <td>339</td>\n",
       "      <td>693</td>\n",
       "      <td>380</td>\n",
       "      <td>368</td>\n",
       "      <td>748</td>\n",
       "      <td>55</td>\n",
       "    </tr>\n",
       "    <tr>\n",
       "      <th>2</th>\n",
       "      <td>3</td>\n",
       "      <td>2</td>\n",
       "      <td>1995</td>\n",
       "      <td>3</td>\n",
       "      <td>4.0</td>\n",
       "      <td>4</td>\n",
       "      <td>367</td>\n",
       "      <td>309</td>\n",
       "      <td>676</td>\n",
       "      <td>396</td>\n",
       "      <td>365</td>\n",
       "      <td>761</td>\n",
       "      <td>416</td>\n",
       "      <td>382</td>\n",
       "      <td>798</td>\n",
       "      <td>37</td>\n",
       "    </tr>\n",
       "    <tr>\n",
       "      <th>3</th>\n",
       "      <td>4</td>\n",
       "      <td>1</td>\n",
       "      <td>1987</td>\n",
       "      <td>3</td>\n",
       "      <td>9.0</td>\n",
       "      <td>8</td>\n",
       "      <td>470</td>\n",
       "      <td>285</td>\n",
       "      <td>755</td>\n",
       "      <td>495</td>\n",
       "      <td>341</td>\n",
       "      <td>836</td>\n",
       "      <td>495</td>\n",
       "      <td>397</td>\n",
       "      <td>892</td>\n",
       "      <td>56</td>\n",
       "    </tr>\n",
       "    <tr>\n",
       "      <th>4</th>\n",
       "      <td>5</td>\n",
       "      <td>1</td>\n",
       "      <td>1994</td>\n",
       "      <td>3</td>\n",
       "      <td>6.0</td>\n",
       "      <td>4</td>\n",
       "      <td>273</td>\n",
       "      <td>372</td>\n",
       "      <td>645</td>\n",
       "      <td>314</td>\n",
       "      <td>426</td>\n",
       "      <td>740</td>\n",
       "      <td>398</td>\n",
       "      <td>437</td>\n",
       "      <td>835</td>\n",
       "      <td>95</td>\n",
       "    </tr>\n",
       "    <tr>\n",
       "      <th>...</th>\n",
       "      <td>...</td>\n",
       "      <td>...</td>\n",
       "      <td>...</td>\n",
       "      <td>...</td>\n",
       "      <td>...</td>\n",
       "      <td>...</td>\n",
       "      <td>...</td>\n",
       "      <td>...</td>\n",
       "      <td>...</td>\n",
       "      <td>...</td>\n",
       "      <td>...</td>\n",
       "      <td>...</td>\n",
       "      <td>...</td>\n",
       "      <td>...</td>\n",
       "      <td>...</td>\n",
       "      <td>...</td>\n",
       "    </tr>\n",
       "    <tr>\n",
       "      <th>495</th>\n",
       "      <td>496</td>\n",
       "      <td>1</td>\n",
       "      <td>2006</td>\n",
       "      <td>3</td>\n",
       "      <td>10.0</td>\n",
       "      <td>13</td>\n",
       "      <td>347</td>\n",
       "      <td>315</td>\n",
       "      <td>662</td>\n",
       "      <td>349</td>\n",
       "      <td>321</td>\n",
       "      <td>670</td>\n",
       "      <td>364</td>\n",
       "      <td>336</td>\n",
       "      <td>700</td>\n",
       "      <td>30</td>\n",
       "    </tr>\n",
       "    <tr>\n",
       "      <th>496</th>\n",
       "      <td>497</td>\n",
       "      <td>2</td>\n",
       "      <td>1988</td>\n",
       "      <td>3</td>\n",
       "      <td>9.0</td>\n",
       "      <td>17</td>\n",
       "      <td>112</td>\n",
       "      <td>250</td>\n",
       "      <td>362</td>\n",
       "      <td>120</td>\n",
       "      <td>251</td>\n",
       "      <td>371</td>\n",
       "      <td>187</td>\n",
       "      <td>252</td>\n",
       "      <td>439</td>\n",
       "      <td>68</td>\n",
       "    </tr>\n",
       "    <tr>\n",
       "      <th>497</th>\n",
       "      <td>498</td>\n",
       "      <td>1</td>\n",
       "      <td>2006</td>\n",
       "      <td>3</td>\n",
       "      <td>0.0</td>\n",
       "      <td>4</td>\n",
       "      <td>252</td>\n",
       "      <td>150</td>\n",
       "      <td>402</td>\n",
       "      <td>254</td>\n",
       "      <td>158</td>\n",
       "      <td>412</td>\n",
       "      <td>255</td>\n",
       "      <td>167</td>\n",
       "      <td>422</td>\n",
       "      <td>10</td>\n",
       "    </tr>\n",
       "    <tr>\n",
       "      <th>498</th>\n",
       "      <td>499</td>\n",
       "      <td>2</td>\n",
       "      <td>1990</td>\n",
       "      <td>3</td>\n",
       "      <td>4.0</td>\n",
       "      <td>7</td>\n",
       "      <td>371</td>\n",
       "      <td>324</td>\n",
       "      <td>695</td>\n",
       "      <td>378</td>\n",
       "      <td>326</td>\n",
       "      <td>704</td>\n",
       "      <td>422</td>\n",
       "      <td>370</td>\n",
       "      <td>792</td>\n",
       "      <td>88</td>\n",
       "    </tr>\n",
       "    <tr>\n",
       "      <th>499</th>\n",
       "      <td>500</td>\n",
       "      <td>1</td>\n",
       "      <td>1984</td>\n",
       "      <td>3</td>\n",
       "      <td>7.0</td>\n",
       "      <td>15</td>\n",
       "      <td>169</td>\n",
       "      <td>188</td>\n",
       "      <td>357</td>\n",
       "      <td>172</td>\n",
       "      <td>190</td>\n",
       "      <td>362</td>\n",
       "      <td>235</td>\n",
       "      <td>226</td>\n",
       "      <td>461</td>\n",
       "      <td>99</td>\n",
       "    </tr>\n",
       "  </tbody>\n",
       "</table>\n",
       "<p>500 rows × 16 columns</p>\n",
       "</div>"
      ],
      "text/plain": [
       "      ID  Gender  Birth_Year  Seq  기출문제 공부 횟수  토익 모의테스트 횟수  1st_LC_Score  \\\n",
       "0      1       1        1973    3         7.0           10           181   \n",
       "1      2       2        1982    3         4.0           14           330   \n",
       "2      3       2        1995    3         4.0            4           367   \n",
       "3      4       1        1987    3         9.0            8           470   \n",
       "4      5       1        1994    3         6.0            4           273   \n",
       "..   ...     ...         ...  ...         ...          ...           ...   \n",
       "495  496       1        2006    3        10.0           13           347   \n",
       "496  497       2        1988    3         9.0           17           112   \n",
       "497  498       1        2006    3         0.0            4           252   \n",
       "498  499       2        1990    3         4.0            7           371   \n",
       "499  500       1        1984    3         7.0           15           169   \n",
       "\n",
       "     1st_RC_Score  1st_Total_Score  2st_LC_Score  2st_RC_Score  \\\n",
       "0             173              354           227           213   \n",
       "1             290              620           354           339   \n",
       "2             309              676           396           365   \n",
       "3             285              755           495           341   \n",
       "4             372              645           314           426   \n",
       "..            ...              ...           ...           ...   \n",
       "495           315              662           349           321   \n",
       "496           250              362           120           251   \n",
       "497           150              402           254           158   \n",
       "498           324              695           378           326   \n",
       "499           188              357           172           190   \n",
       "\n",
       "     2st_Total_Score  3st_LC_Score  3st_RC_Score  3st_Total_Score  \\\n",
       "0                440           345           336              681   \n",
       "1                693           380           368              748   \n",
       "2                761           416           382              798   \n",
       "3                836           495           397              892   \n",
       "4                740           398           437              835   \n",
       "..               ...           ...           ...              ...   \n",
       "495              670           364           336              700   \n",
       "496              371           187           252              439   \n",
       "497              412           255           167              422   \n",
       "498              704           422           370              792   \n",
       "499              362           235           226              461   \n",
       "\n",
       "     Score_diff_total  \n",
       "0                 241  \n",
       "1                  55  \n",
       "2                  37  \n",
       "3                  56  \n",
       "4                  95  \n",
       "..                ...  \n",
       "495                30  \n",
       "496                68  \n",
       "497                10  \n",
       "498                88  \n",
       "499                99  \n",
       "\n",
       "[500 rows x 16 columns]"
      ]
     },
     "execution_count": 90,
     "metadata": {},
     "output_type": "execute_result"
    }
   ],
   "source": [
    "data.select_dtypes(include=['number'])"
   ]
  },
  {
   "cell_type": "markdown",
   "metadata": {},
   "source": [
    "#### 5) 고유값 확인 및 시각화 : 강의 학습 교재 유형"
   ]
  },
  {
   "cell_type": "code",
   "execution_count": 92,
   "metadata": {},
   "outputs": [],
   "source": [
    "#[문제] 변수 '강의 학습 교재 유형'의 값들의 빈도수, 비율을 계산해서 출력해주세요."
   ]
  },
  {
   "cell_type": "code",
   "execution_count": 93,
   "metadata": {},
   "outputs": [
    {
     "data": {
      "text/plain": [
       "강의 학습 교재 유형\n",
       "일반적인 영어 텍스트 기반 교재        136\n",
       "영상 교재                    128\n",
       "뉴스/이슈 기반 교재              122\n",
       "비즈니스 시뮬레이션(Role Play)    114\n",
       "Name: count, dtype: int64"
      ]
     },
     "execution_count": 93,
     "metadata": {},
     "output_type": "execute_result"
    }
   ],
   "source": [
    "# 빈도수 출력\n",
    "data['강의 학습 교재 유형'].value_counts()"
   ]
  },
  {
   "cell_type": "code",
   "execution_count": 94,
   "metadata": {},
   "outputs": [
    {
     "data": {
      "text/plain": [
       "강의 학습 교재 유형\n",
       "일반적인 영어 텍스트 기반 교재        0.272\n",
       "영상 교재                    0.256\n",
       "뉴스/이슈 기반 교재              0.244\n",
       "비즈니스 시뮬레이션(Role Play)    0.228\n",
       "Name: proportion, dtype: float64"
      ]
     },
     "execution_count": 94,
     "metadata": {},
     "output_type": "execute_result"
    }
   ],
   "source": [
    "# 비율 출력\n",
    "data['강의 학습 교재 유형'].value_counts(normalize=True)"
   ]
  },
  {
   "cell_type": "code",
   "execution_count": 95,
   "metadata": {},
   "outputs": [],
   "source": [
    "#[문제] '취약분야 인지 여부' 문자열의 값을 '알고 있음' --> '1', '알고 있지 않음' -->'0'으로 변경하세요."
   ]
  },
  {
   "cell_type": "code",
   "execution_count": 96,
   "metadata": {},
   "outputs": [
    {
     "name": "stderr",
     "output_type": "stream",
     "text": [
      "C:\\Users\\User\\AppData\\Local\\Temp\\ipykernel_4636\\3225589452.py:1: FutureWarning: Downcasting behavior in `replace` is deprecated and will be removed in a future version. To retain the old behavior, explicitly call `result.infer_objects(copy=False)`. To opt-in to the future behavior, set `pd.set_option('future.no_silent_downcasting', True)`\n",
      "  data = data.replace({'취약분야 인지 여부': {'알고 있음' : 1, '알고 있지 않음': 0}})\n"
     ]
    }
   ],
   "source": [
    "data = data.replace({'취약분야 인지 여부': {'알고 있음' : 1, '알고 있지 않음': 0}})"
   ]
  },
  {
   "cell_type": "markdown",
   "metadata": {
    "id": "QY0bN4jsgOG0"
   },
   "source": [
    "## 데이터 저장"
   ]
  },
  {
   "cell_type": "markdown",
   "metadata": {
    "id": "rPKwF9wlyK0D"
   },
   "source": [
    "* **세부 요구사항**\n",
    "    * to_csv를 이용하여 전처리된 데이터셋을 저장하세요.\n",
    "    * 저장할 파일의 확장자는 .csv 입니다."
   ]
  },
  {
   "cell_type": "code",
   "execution_count": 99,
   "metadata": {},
   "outputs": [],
   "source": [
    "#[문제] 전처리된 데이터프레임 'data04_featured'를 CSV 파일로 저장합니다."
   ]
  },
  {
   "cell_type": "code",
   "execution_count": 100,
   "metadata": {},
   "outputs": [],
   "source": [
    "# 파일 : 'data04_featured.csv'\n",
    "# to_csv 함수 활용\n",
    "data.to_csv('data04_featured.csv', index=False)"
   ]
  },
  {
   "cell_type": "code",
   "execution_count": 101,
   "metadata": {},
   "outputs": [],
   "source": [
    "#[문제] 파일이 잘 저장되었는지, 다시 한번 불러오고 확인해보세요."
   ]
  },
  {
   "cell_type": "code",
   "execution_count": 102,
   "metadata": {},
   "outputs": [
    {
     "data": {
      "text/html": [
       "<div>\n",
       "<style scoped>\n",
       "    .dataframe tbody tr th:only-of-type {\n",
       "        vertical-align: middle;\n",
       "    }\n",
       "\n",
       "    .dataframe tbody tr th {\n",
       "        vertical-align: top;\n",
       "    }\n",
       "\n",
       "    .dataframe thead th {\n",
       "        text-align: right;\n",
       "    }\n",
       "</style>\n",
       "<table border=\"1\" class=\"dataframe\">\n",
       "  <thead>\n",
       "    <tr style=\"text-align: right;\">\n",
       "      <th></th>\n",
       "      <th>ID</th>\n",
       "      <th>Gender</th>\n",
       "      <th>Birth_Year</th>\n",
       "      <th>Seq</th>\n",
       "      <th>학습목표</th>\n",
       "      <th>학습방법</th>\n",
       "      <th>강의 학습 교재 유형</th>\n",
       "      <th>학습빈도</th>\n",
       "      <th>기출문제 공부 횟수</th>\n",
       "      <th>취약분야 인지 여부</th>\n",
       "      <th>...</th>\n",
       "      <th>1st_LC_Score</th>\n",
       "      <th>1st_RC_Score</th>\n",
       "      <th>1st_Total_Score</th>\n",
       "      <th>2st_LC_Score</th>\n",
       "      <th>2st_RC_Score</th>\n",
       "      <th>2st_Total_Score</th>\n",
       "      <th>3st_LC_Score</th>\n",
       "      <th>3st_RC_Score</th>\n",
       "      <th>3st_Total_Score</th>\n",
       "      <th>Score_diff_total</th>\n",
       "    </tr>\n",
       "  </thead>\n",
       "  <tbody>\n",
       "    <tr>\n",
       "      <th>0</th>\n",
       "      <td>1</td>\n",
       "      <td>1</td>\n",
       "      <td>1973</td>\n",
       "      <td>3</td>\n",
       "      <td>승진</td>\n",
       "      <td>온라인강의</td>\n",
       "      <td>영상 교재</td>\n",
       "      <td>주5-6회</td>\n",
       "      <td>7.0</td>\n",
       "      <td>1</td>\n",
       "      <td>...</td>\n",
       "      <td>181</td>\n",
       "      <td>173</td>\n",
       "      <td>354</td>\n",
       "      <td>227</td>\n",
       "      <td>213</td>\n",
       "      <td>440</td>\n",
       "      <td>345</td>\n",
       "      <td>336</td>\n",
       "      <td>681</td>\n",
       "      <td>241</td>\n",
       "    </tr>\n",
       "    <tr>\n",
       "      <th>1</th>\n",
       "      <td>2</td>\n",
       "      <td>2</td>\n",
       "      <td>1982</td>\n",
       "      <td>3</td>\n",
       "      <td>승진</td>\n",
       "      <td>온라인강의</td>\n",
       "      <td>뉴스/이슈 기반 교재</td>\n",
       "      <td>주5-6회</td>\n",
       "      <td>4.0</td>\n",
       "      <td>1</td>\n",
       "      <td>...</td>\n",
       "      <td>330</td>\n",
       "      <td>290</td>\n",
       "      <td>620</td>\n",
       "      <td>354</td>\n",
       "      <td>339</td>\n",
       "      <td>693</td>\n",
       "      <td>380</td>\n",
       "      <td>368</td>\n",
       "      <td>748</td>\n",
       "      <td>55</td>\n",
       "    </tr>\n",
       "    <tr>\n",
       "      <th>2</th>\n",
       "      <td>3</td>\n",
       "      <td>2</td>\n",
       "      <td>1995</td>\n",
       "      <td>3</td>\n",
       "      <td>자기계발</td>\n",
       "      <td>참고서</td>\n",
       "      <td>일반적인 영어 텍스트 기반 교재</td>\n",
       "      <td>주1-2회</td>\n",
       "      <td>4.0</td>\n",
       "      <td>1</td>\n",
       "      <td>...</td>\n",
       "      <td>367</td>\n",
       "      <td>309</td>\n",
       "      <td>676</td>\n",
       "      <td>396</td>\n",
       "      <td>365</td>\n",
       "      <td>761</td>\n",
       "      <td>416</td>\n",
       "      <td>382</td>\n",
       "      <td>798</td>\n",
       "      <td>37</td>\n",
       "    </tr>\n",
       "    <tr>\n",
       "      <th>3</th>\n",
       "      <td>4</td>\n",
       "      <td>1</td>\n",
       "      <td>1987</td>\n",
       "      <td>3</td>\n",
       "      <td>승진</td>\n",
       "      <td>온라인강의</td>\n",
       "      <td>뉴스/이슈 기반 교재</td>\n",
       "      <td>주3-4회</td>\n",
       "      <td>9.0</td>\n",
       "      <td>1</td>\n",
       "      <td>...</td>\n",
       "      <td>470</td>\n",
       "      <td>285</td>\n",
       "      <td>755</td>\n",
       "      <td>495</td>\n",
       "      <td>341</td>\n",
       "      <td>836</td>\n",
       "      <td>495</td>\n",
       "      <td>397</td>\n",
       "      <td>892</td>\n",
       "      <td>56</td>\n",
       "    </tr>\n",
       "    <tr>\n",
       "      <th>4</th>\n",
       "      <td>5</td>\n",
       "      <td>1</td>\n",
       "      <td>1994</td>\n",
       "      <td>3</td>\n",
       "      <td>자기계발</td>\n",
       "      <td>온라인강의</td>\n",
       "      <td>영상 교재</td>\n",
       "      <td>주3-4회</td>\n",
       "      <td>6.0</td>\n",
       "      <td>1</td>\n",
       "      <td>...</td>\n",
       "      <td>273</td>\n",
       "      <td>372</td>\n",
       "      <td>645</td>\n",
       "      <td>314</td>\n",
       "      <td>426</td>\n",
       "      <td>740</td>\n",
       "      <td>398</td>\n",
       "      <td>437</td>\n",
       "      <td>835</td>\n",
       "      <td>95</td>\n",
       "    </tr>\n",
       "    <tr>\n",
       "      <th>...</th>\n",
       "      <td>...</td>\n",
       "      <td>...</td>\n",
       "      <td>...</td>\n",
       "      <td>...</td>\n",
       "      <td>...</td>\n",
       "      <td>...</td>\n",
       "      <td>...</td>\n",
       "      <td>...</td>\n",
       "      <td>...</td>\n",
       "      <td>...</td>\n",
       "      <td>...</td>\n",
       "      <td>...</td>\n",
       "      <td>...</td>\n",
       "      <td>...</td>\n",
       "      <td>...</td>\n",
       "      <td>...</td>\n",
       "      <td>...</td>\n",
       "      <td>...</td>\n",
       "      <td>...</td>\n",
       "      <td>...</td>\n",
       "      <td>...</td>\n",
       "    </tr>\n",
       "    <tr>\n",
       "      <th>495</th>\n",
       "      <td>496</td>\n",
       "      <td>1</td>\n",
       "      <td>2006</td>\n",
       "      <td>3</td>\n",
       "      <td>자기계발</td>\n",
       "      <td>온라인강의</td>\n",
       "      <td>일반적인 영어 텍스트 기반 교재</td>\n",
       "      <td>매일(주 7회)</td>\n",
       "      <td>10.0</td>\n",
       "      <td>1</td>\n",
       "      <td>...</td>\n",
       "      <td>347</td>\n",
       "      <td>315</td>\n",
       "      <td>662</td>\n",
       "      <td>349</td>\n",
       "      <td>321</td>\n",
       "      <td>670</td>\n",
       "      <td>364</td>\n",
       "      <td>336</td>\n",
       "      <td>700</td>\n",
       "      <td>30</td>\n",
       "    </tr>\n",
       "    <tr>\n",
       "      <th>496</th>\n",
       "      <td>497</td>\n",
       "      <td>2</td>\n",
       "      <td>1988</td>\n",
       "      <td>3</td>\n",
       "      <td>승진</td>\n",
       "      <td>온라인강의</td>\n",
       "      <td>비즈니스 시뮬레이션(Role Play)</td>\n",
       "      <td>매일(주 7회)</td>\n",
       "      <td>9.0</td>\n",
       "      <td>1</td>\n",
       "      <td>...</td>\n",
       "      <td>112</td>\n",
       "      <td>250</td>\n",
       "      <td>362</td>\n",
       "      <td>120</td>\n",
       "      <td>251</td>\n",
       "      <td>371</td>\n",
       "      <td>187</td>\n",
       "      <td>252</td>\n",
       "      <td>439</td>\n",
       "      <td>68</td>\n",
       "    </tr>\n",
       "    <tr>\n",
       "      <th>497</th>\n",
       "      <td>498</td>\n",
       "      <td>1</td>\n",
       "      <td>2006</td>\n",
       "      <td>3</td>\n",
       "      <td>자기계발</td>\n",
       "      <td>오프라인강의</td>\n",
       "      <td>일반적인 영어 텍스트 기반 교재</td>\n",
       "      <td>주1-2회</td>\n",
       "      <td>0.0</td>\n",
       "      <td>1</td>\n",
       "      <td>...</td>\n",
       "      <td>252</td>\n",
       "      <td>150</td>\n",
       "      <td>402</td>\n",
       "      <td>254</td>\n",
       "      <td>158</td>\n",
       "      <td>412</td>\n",
       "      <td>255</td>\n",
       "      <td>167</td>\n",
       "      <td>422</td>\n",
       "      <td>10</td>\n",
       "    </tr>\n",
       "    <tr>\n",
       "      <th>498</th>\n",
       "      <td>499</td>\n",
       "      <td>2</td>\n",
       "      <td>1990</td>\n",
       "      <td>3</td>\n",
       "      <td>자기계발</td>\n",
       "      <td>오프라인강의</td>\n",
       "      <td>비즈니스 시뮬레이션(Role Play)</td>\n",
       "      <td>주3-4회</td>\n",
       "      <td>4.0</td>\n",
       "      <td>1</td>\n",
       "      <td>...</td>\n",
       "      <td>371</td>\n",
       "      <td>324</td>\n",
       "      <td>695</td>\n",
       "      <td>378</td>\n",
       "      <td>326</td>\n",
       "      <td>704</td>\n",
       "      <td>422</td>\n",
       "      <td>370</td>\n",
       "      <td>792</td>\n",
       "      <td>88</td>\n",
       "    </tr>\n",
       "    <tr>\n",
       "      <th>499</th>\n",
       "      <td>500</td>\n",
       "      <td>1</td>\n",
       "      <td>1984</td>\n",
       "      <td>3</td>\n",
       "      <td>승진</td>\n",
       "      <td>오프라인강의</td>\n",
       "      <td>비즈니스 시뮬레이션(Role Play)</td>\n",
       "      <td>주5-6회</td>\n",
       "      <td>7.0</td>\n",
       "      <td>1</td>\n",
       "      <td>...</td>\n",
       "      <td>169</td>\n",
       "      <td>188</td>\n",
       "      <td>357</td>\n",
       "      <td>172</td>\n",
       "      <td>190</td>\n",
       "      <td>362</td>\n",
       "      <td>235</td>\n",
       "      <td>226</td>\n",
       "      <td>461</td>\n",
       "      <td>99</td>\n",
       "    </tr>\n",
       "  </tbody>\n",
       "</table>\n",
       "<p>500 rows × 21 columns</p>\n",
       "</div>"
      ],
      "text/plain": [
       "      ID  Gender  Birth_Year  Seq  학습목표    학습방법            강의 학습 교재 유형  \\\n",
       "0      1       1        1973    3    승진   온라인강의                  영상 교재   \n",
       "1      2       2        1982    3    승진   온라인강의            뉴스/이슈 기반 교재   \n",
       "2      3       2        1995    3  자기계발     참고서      일반적인 영어 텍스트 기반 교재   \n",
       "3      4       1        1987    3    승진   온라인강의            뉴스/이슈 기반 교재   \n",
       "4      5       1        1994    3  자기계발   온라인강의                  영상 교재   \n",
       "..   ...     ...         ...  ...   ...     ...                    ...   \n",
       "495  496       1        2006    3  자기계발   온라인강의      일반적인 영어 텍스트 기반 교재   \n",
       "496  497       2        1988    3    승진   온라인강의  비즈니스 시뮬레이션(Role Play)   \n",
       "497  498       1        2006    3  자기계발  오프라인강의      일반적인 영어 텍스트 기반 교재   \n",
       "498  499       2        1990    3  자기계발  오프라인강의  비즈니스 시뮬레이션(Role Play)   \n",
       "499  500       1        1984    3    승진  오프라인강의  비즈니스 시뮬레이션(Role Play)   \n",
       "\n",
       "         학습빈도  기출문제 공부 횟수  취약분야 인지 여부  ...  1st_LC_Score  1st_RC_Score  \\\n",
       "0       주5-6회         7.0           1  ...           181           173   \n",
       "1       주5-6회         4.0           1  ...           330           290   \n",
       "2       주1-2회         4.0           1  ...           367           309   \n",
       "3       주3-4회         9.0           1  ...           470           285   \n",
       "4       주3-4회         6.0           1  ...           273           372   \n",
       "..        ...         ...         ...  ...           ...           ...   \n",
       "495  매일(주 7회)        10.0           1  ...           347           315   \n",
       "496  매일(주 7회)         9.0           1  ...           112           250   \n",
       "497     주1-2회         0.0           1  ...           252           150   \n",
       "498     주3-4회         4.0           1  ...           371           324   \n",
       "499     주5-6회         7.0           1  ...           169           188   \n",
       "\n",
       "     1st_Total_Score  2st_LC_Score  2st_RC_Score  2st_Total_Score  \\\n",
       "0                354           227           213              440   \n",
       "1                620           354           339              693   \n",
       "2                676           396           365              761   \n",
       "3                755           495           341              836   \n",
       "4                645           314           426              740   \n",
       "..               ...           ...           ...              ...   \n",
       "495              662           349           321              670   \n",
       "496              362           120           251              371   \n",
       "497              402           254           158              412   \n",
       "498              695           378           326              704   \n",
       "499              357           172           190              362   \n",
       "\n",
       "     3st_LC_Score  3st_RC_Score  3st_Total_Score  Score_diff_total  \n",
       "0             345           336              681               241  \n",
       "1             380           368              748                55  \n",
       "2             416           382              798                37  \n",
       "3             495           397              892                56  \n",
       "4             398           437              835                95  \n",
       "..            ...           ...              ...               ...  \n",
       "495           364           336              700                30  \n",
       "496           187           252              439                68  \n",
       "497           255           167              422                10  \n",
       "498           422           370              792                88  \n",
       "499           235           226              461                99  \n",
       "\n",
       "[500 rows x 21 columns]"
      ]
     },
     "execution_count": 102,
     "metadata": {},
     "output_type": "execute_result"
    }
   ],
   "source": [
    "pd.read_csv('data04_featured.csv')"
   ]
  },
  {
   "cell_type": "code",
   "execution_count": 103,
   "metadata": {
    "id": "rsPMYAnPBo4k"
   },
   "outputs": [],
   "source": [
    "## 고생 정말 많으셨습니다!!\n"
   ]
  }
 ],
 "metadata": {
  "colab": {
   "provenance": [],
   "toc_visible": true
  },
  "kernelspec": {
   "display_name": "Python 3 (ipykernel)",
   "language": "python",
   "name": "python3"
  },
  "language_info": {
   "codemirror_mode": {
    "name": "ipython",
    "version": 3
   },
   "file_extension": ".py",
   "mimetype": "text/x-python",
   "name": "python",
   "nbconvert_exporter": "python",
   "pygments_lexer": "ipython3",
   "version": "3.12.4"
  }
 },
 "nbformat": 4,
 "nbformat_minor": 4
}
